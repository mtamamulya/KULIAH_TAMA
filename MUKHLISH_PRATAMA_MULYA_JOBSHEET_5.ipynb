{
  "cells": [
    {
      "cell_type": "markdown",
      "metadata": {
        "id": "view-in-github",
        "colab_type": "text"
      },
      "source": [
        "<a href=\"https://colab.research.google.com/github/mtamamulya/KULIAH_TAMA/blob/main/MUKHLISH_PRATAMA_MULYA_JOBSHEET_5.ipynb\" target=\"_parent\"><img src=\"https://colab.research.google.com/assets/colab-badge.svg\" alt=\"Open In Colab\"/></a>"
      ]
    },
    {
      "cell_type": "code",
      "execution_count": null,
      "metadata": {
        "colab": {
          "base_uri": "https://localhost:8080/"
        },
        "id": "RqE1ZDwr-w24",
        "outputId": "e93ff11b-4072-48aa-f6fc-420a3faadfcc"
      },
      "outputs": [
        {
          "name": "stdout",
          "output_type": "stream",
          "text": [
            "P\n",
            "Politeknik \n",
            "Semarang\n"
          ]
        }
      ],
      "source": [
        "teks = 'Politeknik Negeri Semarang'\n",
        "print(teks[0])\n",
        "print(teks[:11])\n",
        "print(teks[-8:])"
      ]
    },
    {
      "cell_type": "code",
      "execution_count": null,
      "metadata": {
        "colab": {
          "base_uri": "https://localhost:8080/"
        },
        "id": "tjxZ8wE6_81U",
        "outputId": "bf96122c-dfb1-4e2a-efe7-1a671757d2ba"
      },
      "outputs": [
        {
          "name": "stdout",
          "output_type": "stream",
          "text": [
            "POLITEKNIK NEGERI SEMARANG\n",
            "politeknik negeri semarang\n",
            "Politeknik Negeri Semarang\n",
            "Politeknik Negeri Semarang\n",
            "['Politeknik', 'Negeri', 'Semarang']\n",
            "Politeknik Negeri Semarang\n"
          ]
        }
      ],
      "source": [
        "teks = 'Politeknik Negeri Semarang'\n",
        "print(teks.upper())\n",
        "print(teks.lower())\n",
        "print(teks.title())\n",
        "print(teks.strip())\n",
        "print(teks.split(\" \"))\n",
        "print(\" \".join([\"Politeknik\", \"Negeri\", \"Semarang\"]))"
      ]
    },
    {
      "cell_type": "code",
      "execution_count": null,
      "metadata": {
        "colab": {
          "base_uri": "https://localhost:8080/"
        },
        "id": "CcWiP1sBB--a",
        "outputId": "b2856b9d-cf55-45ed-bf70-bbb5a03ab93e"
      },
      "outputs": [
        {
          "name": "stdout",
          "output_type": "stream",
          "text": [
            "masukkan password: asdfg\n",
            "password terlalu pendek\n"
          ]
        }
      ],
      "source": [
        "password = input('masukkan password: ')\n",
        "\n",
        "if len(password) >= 8:\n",
        "  print('password valid')\n",
        "else:\n",
        "  print('password terlalu pendek')"
      ]
    },
    {
      "cell_type": "code",
      "execution_count": null,
      "metadata": {
        "colab": {
          "base_uri": "https://localhost:8080/"
        },
        "id": "-ecE5Y3uCbbD",
        "outputId": "49ce329b-b132-4ed1-b839-eb929daa9ef7"
      },
      "outputs": [
        {
          "name": "stdout",
          "output_type": "stream",
          "text": [
            "masukkan nama: Budi\n",
            "masukkan umur: 21\n",
            "nama saya Budi, sekarang berusia 21 tahun\n"
          ]
        }
      ],
      "source": [
        "nama = input('masukkan nama: ')\n",
        "umur = int(input('masukkan umur: '))\n",
        "\n",
        "print(f'nama saya {nama}, sekarang berusia {umur} tahun')"
      ]
    },
    {
      "cell_type": "code",
      "execution_count": null,
      "metadata": {
        "colab": {
          "base_uri": "https://localhost:8080/"
        },
        "id": "CXWql3_fDB4m",
        "outputId": "db188acd-b1a9-496b-dbad-43f1df406f3f"
      },
      "outputs": [
        {
          "name": "stdout",
          "output_type": "stream",
          "text": [
            "Masukkan nilai a: 10\n",
            "Masukkan nilai b: 3\n",
            "Hasil penjumlahan 10+3 = 13.0\n",
            "Hasil pembagian 10/3 = 3.33\n"
          ]
        }
      ],
      "source": [
        "a = int(input(\"Masukkan nilai a: \"))\n",
        "b = int(input(\"Masukkan nilai b: \"))\n",
        "\n",
        "print(f\"Hasil penjumlahan {a}+{b} = {a+b:.1f}\")\n",
        "print(f\"Hasil pembagian {a}/{b} = {a/b:.2f}\")\n"
      ]
    },
    {
      "cell_type": "code",
      "execution_count": null,
      "metadata": {
        "colab": {
          "base_uri": "https://localhost:8080/"
        },
        "id": "BoacjkMbDY4M",
        "outputId": "815612cd-6aa1-44ec-81a3-d2cecf639b7a"
      },
      "outputs": [
        {
          "name": "stdout",
          "output_type": "stream",
          "text": [
            "nilai: 123\n",
            "466\n"
          ]
        }
      ],
      "source": [
        "angka = 123\n",
        "teks = '456'\n",
        "\n",
        "print('nilai: ' + str(angka))\n",
        "print(int(teks) + 10)"
      ]
    },
    {
      "cell_type": "code",
      "execution_count": null,
      "metadata": {
        "colab": {
          "base_uri": "https://localhost:8080/"
        },
        "id": "ZgqgIIwKD5Hi",
        "outputId": "ae717f47-82d1-4c9b-fc9d-f162a501f43a"
      },
      "outputs": [
        {
          "name": "stdout",
          "output_type": "stream",
          "text": [
            "jumlah kata: 6\n",
            "1. saya\n",
            "2. kuliah\n",
            "3. di\n",
            "4. politeknik\n",
            "5. negeri\n",
            "6. semarang\n"
          ]
        }
      ],
      "source": [
        "kalimat = 'saya kuliah di politeknik negeri semarang'\n",
        "daftar_kata = kalimat.split(' ')\n",
        "\n",
        "print(f'jumlah kata: {len(daftar_kata)}')\n",
        "for i, kata in enumerate(daftar_kata, start = 1):\n",
        "  print(f'{i}. {kata}')"
      ]
    },
    {
      "cell_type": "markdown",
      "metadata": {
        "id": "9kaQh9lYh4Np"
      },
      "source": [
        "# **PENUGASAN PRAKTIKUM 5**"
      ]
    },
    {
      "cell_type": "markdown",
      "metadata": {
        "id": "bS9Iy04s2WbL"
      },
      "source": [
        "**TUGAS 1**"
      ]
    },
    {
      "cell_type": "code",
      "execution_count": null,
      "metadata": {
        "colab": {
          "base_uri": "https://localhost:8080/"
        },
        "id": "eksQ2ueTg-Te",
        "outputId": "355f0a62-56d0-44f4-b269-2c7303c583fb"
      },
      "outputs": [
        {
          "name": "stdout",
          "output_type": "stream",
          "text": [
            "p\n",
            "g\n",
            "negeri\n"
          ]
        }
      ],
      "source": [
        "teks = 'politeknik negeri semarang'\n",
        "\n",
        "print(teks[0])\n",
        "print(teks[-1])\n",
        "print(teks[11:17])"
      ]
    },
    {
      "cell_type": "markdown",
      "metadata": {
        "id": "q_QloPuX2eyZ"
      },
      "source": [
        "**TUGAS 2**"
      ]
    },
    {
      "cell_type": "code",
      "execution_count": null,
      "metadata": {
        "colab": {
          "base_uri": "https://localhost:8080/"
        },
        "id": "ibMmvoEg2lGv",
        "outputId": "477ac1f8-865b-4fba-d05b-d33308a593f1"
      },
      "outputs": [
        {
          "name": "stdout",
          "output_type": "stream",
          "text": [
            "MUKHLISH PRATAMA MULYA\n",
            "mukhlish pratama mulya\n",
            "panjang kalimat: 22 huruf\n"
          ]
        }
      ],
      "source": [
        "teks = 'mukhlish pratama mulya'\n",
        "\n",
        "print(teks.upper())\n",
        "print(teks.lower())\n",
        "print(f'panjang kalimat: {len(teks)} huruf')"
      ]
    },
    {
      "cell_type": "markdown",
      "metadata": {
        "id": "V2bOjflb3dFR"
      },
      "source": [
        "**TUGAS 3**"
      ]
    },
    {
      "cell_type": "code",
      "execution_count": null,
      "metadata": {
        "colab": {
          "base_uri": "https://localhost:8080/"
        },
        "id": "puzMcwMj3gNX",
        "outputId": "b9bd491a-eb1b-4418-8f9a-cc68ce65f8da"
      },
      "outputs": [
        {
          "name": "stdout",
          "output_type": "stream",
          "text": [
            "masukkan password anda: yanto kusam\n",
            "password tidak valid \n",
            "(kurang dari 8 atau terdapat spasi)\n",
            "2\n"
          ]
        }
      ],
      "source": [
        "pw = input('masukkan password anda: ')\n",
        "spasi = pw.split(' ')\n",
        "\n",
        "if len(spasi) > 1 or len(pw) <= 8 :\n",
        "  print('password tidak valid \\n(kurang dari 8 atau terdapat spasi)')\n",
        "  #buat cek aja si ini mah\n",
        "  print(len(spasi))\n",
        "else:\n",
        "  print('password valid')\n"
      ]
    },
    {
      "cell_type": "markdown",
      "metadata": {
        "id": "qHq-4R7s8myz"
      },
      "source": [
        "**TUGAS 4**"
      ]
    },
    {
      "cell_type": "code",
      "execution_count": null,
      "metadata": {
        "colab": {
          "base_uri": "https://localhost:8080/"
        },
        "id": "gqmXsCvY8qCt",
        "outputId": "111c7640-3428-4050-82f1-c8c0ee70fadb"
      },
      "outputs": [
        {
          "name": "stdout",
          "output_type": "stream",
          "text": [
            "masukkan nama: Tama\n",
            "masukkan umur: 18\n",
            "masukkan jurusan: TRK\n",
            "perkenalkan nama saya Tama sekarang berusia 18 \n",
            "saya berada di jurusan TRK\n"
          ]
        }
      ],
      "source": [
        "nama = input('masukkan nama: ')\n",
        "umur = int(input('masukkan umur: '))\n",
        "jurusan =(input('masukkan jurusan: '))\n",
        "\n",
        "print(f'perkenalkan nama saya {nama} sekarang berusia {umur} \\nsaya berada di jurusan {jurusan}')"
      ]
    },
    {
      "cell_type": "markdown",
      "metadata": {
        "id": "zi-6otvK9p-P"
      },
      "source": [
        "**TUGAS 5**"
      ]
    },
    {
      "cell_type": "code",
      "execution_count": null,
      "metadata": {
        "colab": {
          "base_uri": "https://localhost:8080/"
        },
        "id": "BUpFPL2u9s0h",
        "outputId": "6a0724ef-e5fc-4862-dde6-1cffa33d0d65"
      },
      "outputs": [
        {
          "name": "stdout",
          "output_type": "stream",
          "text": [
            "masukkan angka pertama: 10\n",
            "masukkan angka kedua: 3\n",
            "Hasil penjumlahan 10 + 3 = 13.0\n",
            "Hasil perkalian 10 x 3 = 30.0\n",
            "Hasil pembagian 10 / 3 = 3.333\n"
          ]
        }
      ],
      "source": [
        "a = int(input('masukkan angka pertama: '))\n",
        "b = int(input('masukkan angka kedua: '))\n",
        "\n",
        "print(f\"Hasil penjumlahan {a} + {b} = {a+b:.1f}\")\n",
        "print(f\"Hasil perkalian {a} x {b} = {a*b:.1f}\")\n",
        "print(f\"Hasil pembagian {a} / {b} = {a/b:.3f}\")"
      ]
    },
    {
      "cell_type": "markdown",
      "metadata": {
        "id": "2EzM6d8VE2JM"
      },
      "source": [
        "**TUGAS 6**"
      ]
    },
    {
      "cell_type": "code",
      "execution_count": null,
      "metadata": {
        "colab": {
          "base_uri": "https://localhost:8080/"
        },
        "id": "4_kZVYjOE4-d",
        "outputId": "240b8734-f951-46d4-c83e-b9aecf27d08c"
      },
      "outputs": [
        {
          "name": "stdout",
          "output_type": "stream",
          "text": [
            "masukkan angka: 12\n",
            "hasil kuadrad dari 12 adalah 144.00\n"
          ]
        }
      ],
      "source": [
        "n = str(input('masukkan angka: '))\n",
        "\n",
        "print(f'hasil kuadrad dari {int(n)} adalah {int(n)*int(n):.2f}')"
      ]
    },
    {
      "cell_type": "markdown",
      "metadata": {
        "id": "gZyRA_CSKKBD"
      },
      "source": [
        "**TUGAS 7**"
      ]
    },
    {
      "cell_type": "code",
      "execution_count": 61,
      "metadata": {
        "colab": {
          "base_uri": "https://localhost:8080/"
        },
        "id": "91Fwp6OUOQ_R",
        "outputId": "1bcf2d92-4d9a-4c21-cf0a-55282eceec89"
      },
      "outputs": [
        {
          "output_type": "stream",
          "name": "stdout",
          "text": [
            "jumlah kata: 6\n",
            "kata terpanjang adalah: politeknik\n",
            "1. di\n",
            "2. kuliah\n",
            "3. negeri\n",
            "4. politeknik\n",
            "5. saya\n",
            "6. semarang\n"
          ]
        }
      ],
      "source": [
        "kalimat = 'saya kuliah di politeknik negeri semarang'\n",
        "daftar_kata = kalimat.split(' ')\n",
        "\n",
        "print(f'jumlah kata: {len(daftar_kata)}')\n",
        "\n",
        "kata_tpj = \"\"\n",
        "for kalimat in daftar_kata:\n",
        "  if len(kalimat) > len(kata_tpj):\n",
        "    kata_tpj = kalimat\n",
        "print(f\"kata terpanjang adalah: {kata_tpj}\")\n",
        "\n",
        "for i, kata in enumerate(sorted(daftar_kata), start = 1):\n",
        "  print(f'{i}. {kata}')\n"
      ]
    }
  ],
  "metadata": {
    "colab": {
      "provenance": [],
      "authorship_tag": "ABX9TyM1nRFAjZTni07HqFxOGsPw",
      "include_colab_link": true
    },
    "kernelspec": {
      "display_name": "Python 3",
      "name": "python3"
    },
    "language_info": {
      "name": "python"
    }
  },
  "nbformat": 4,
  "nbformat_minor": 0
}