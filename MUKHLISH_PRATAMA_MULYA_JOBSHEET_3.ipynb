{
  "nbformat": 4,
  "nbformat_minor": 0,
  "metadata": {
    "colab": {
      "provenance": [],
      "authorship_tag": "ABX9TyPA0ZCCkIyQaJ/NWLPWsQOm",
      "include_colab_link": true
    },
    "kernelspec": {
      "name": "python3",
      "display_name": "Python 3"
    },
    "language_info": {
      "name": "python"
    }
  },
  "cells": [
    {
      "cell_type": "markdown",
      "metadata": {
        "id": "view-in-github",
        "colab_type": "text"
      },
      "source": [
        "<a href=\"https://colab.research.google.com/github/mtamamulya/KULIAH_TAMA/blob/main/MUKHLISH_PRATAMA_MULYA_JOBSHEET_3.ipynb\" target=\"_parent\"><img src=\"https://colab.research.google.com/assets/colab-badge.svg\" alt=\"Open In Colab\"/></a>"
      ]
    },
    {
      "cell_type": "markdown",
      "source": [
        "#Praktikum 01 – If Sederhana"
      ],
      "metadata": {
        "id": "qSh583FfobAq"
      }
    },
    {
      "cell_type": "code",
      "execution_count": 3,
      "metadata": {
        "colab": {
          "base_uri": "https://localhost:8080/"
        },
        "id": "6BycWzBhn-rE",
        "outputId": "6d21e402-cd89-4197-c2ef-3090df2d3973"
      },
      "outputs": [
        {
          "output_type": "stream",
          "name": "stdout",
          "text": [
            "Masukkan nilai ujian: 70\n",
            "Anda LULUS\n"
          ]
        }
      ],
      "source": [
        "nilai = int(input(\"Masukkan nilai ujian: \"))\n",
        "if nilai >= 60:\n",
        "  print(\"Anda LULUS\")\n"
      ]
    },
    {
      "cell_type": "markdown",
      "source": [
        "# Praktikum 02 – If-Else"
      ],
      "metadata": {
        "id": "V9XHTM9RolnV"
      }
    },
    {
      "cell_type": "code",
      "source": [
        "nilai = int(input(\"Masukkan nilai ujian: \"))\n",
        "if nilai >= 60:\n",
        "  print(\"Anda LULUS\")\n",
        "else:\n",
        "  print(\"Anda TIDAK LULUS\")\n"
      ],
      "metadata": {
        "colab": {
          "base_uri": "https://localhost:8080/"
        },
        "id": "5w4Y3RfQoqWZ",
        "outputId": "e79c336e-7250-42cf-f8fe-b0f2fac88d06"
      },
      "execution_count": 5,
      "outputs": [
        {
          "output_type": "stream",
          "name": "stdout",
          "text": [
            "Masukkan nilai ujian: 50\n",
            "Anda TIDAK LULUS\n"
          ]
        }
      ]
    },
    {
      "cell_type": "markdown",
      "source": [
        "# Praktikum 03 – If-Elif-Else"
      ],
      "metadata": {
        "id": "b-FLHy-4o62h"
      }
    },
    {
      "cell_type": "code",
      "source": [
        "nilai = int(input(\"Masukkan nilai akhir: \"))\n",
        "if nilai >= 85:\n",
        "  grade = \"A\"\n",
        "elif nilai >= 70:\n",
        "  grade = \"B\"\n",
        "elif nilai >= 55:\n",
        "  grade = \"C\"\n",
        "elif nilai >= 40:\n",
        "  grade = \"D\"\n",
        "else:\n",
        "  grade = \"E\"\n",
        "\n",
        "print(f\"Nilai Anda {nilai}, maka grade Anda = {grade}\")\n"
      ],
      "metadata": {
        "colab": {
          "base_uri": "https://localhost:8080/"
        },
        "id": "_Rqt8wZJpCO6",
        "outputId": "d3607bee-26a2-4d6f-9eda-9e1491e3a410"
      },
      "execution_count": 16,
      "outputs": [
        {
          "output_type": "stream",
          "name": "stdout",
          "text": [
            "Masukkan nilai akhir: 78\n",
            "Nilai Anda 78, maka grade Anda = B\n"
          ]
        }
      ]
    },
    {
      "cell_type": "markdown",
      "source": [
        "# Praktikum 04 – Nested If"
      ],
      "metadata": {
        "id": "GYWD1SnXplbY"
      }
    },
    {
      "cell_type": "code",
      "source": [
        "ipk = float(input(\"Masukkan IPK: \"))\n",
        "sks = int(input(\"Masukkan jumlah SKS: \"))\n",
        "if ipk >= 3.0:\n",
        "  if sks >= 18:\n",
        "    print(\"Anda LAYAK mendapat beasiswa\")\n",
        "  else:\n",
        "    print(\"IPK memenuhi, tapi SKS kurang\")\n",
        "else:\n",
        "  print(\"Anda TIDAK layak mendapat beasiswa\")\n"
      ],
      "metadata": {
        "colab": {
          "base_uri": "https://localhost:8080/"
        },
        "id": "zeexODleppbF",
        "outputId": "3ab58bda-b76b-4775-e10f-49effb24e6d5"
      },
      "execution_count": 19,
      "outputs": [
        {
          "output_type": "stream",
          "name": "stdout",
          "text": [
            "Masukkan IPK: 2.8\n",
            "Masukkan jumlah SKS: 20\n",
            "Anda TIDAK layak mendapat beasiswa\n"
          ]
        }
      ]
    },
    {
      "cell_type": "markdown",
      "source": [
        "# Praktikum 05 – Match-Case"
      ],
      "metadata": {
        "id": "ifFaLqDRqKPy"
      }
    },
    {
      "cell_type": "code",
      "source": [
        "menu = int(input(\"Pilih menu (1-3): \"))\n",
        "match menu:\n",
        "  case 1:\n",
        "    print(\"Anda memilih Nasi Goreng\")\n",
        "  case 2:\n",
        "    print(\"Anda memilih Mie Ayam\")\n",
        "  case 3:\n",
        "    print(\"Anda memilih Soto Ayam\")\n",
        "  case _:\n",
        "    print(\"Menu tidak tersedia\")\n"
      ],
      "metadata": {
        "colab": {
          "base_uri": "https://localhost:8080/"
        },
        "id": "f1elxZwoqUcB",
        "outputId": "fdc27644-1016-4488-f992-861228303633"
      },
      "execution_count": 21,
      "outputs": [
        {
          "output_type": "stream",
          "name": "stdout",
          "text": [
            "Pilih menu (1-3): 9\n",
            "Menu tidak tersedia\n"
          ]
        }
      ]
    },
    {
      "cell_type": "markdown",
      "source": [
        "# Praktikum 06 – Studi Kasus: Program Kasir"
      ],
      "metadata": {
        "id": "VjMbAMi0q20K"
      }
    },
    {
      "cell_type": "code",
      "source": [
        "barang = input(\"Masukkan nama barang: \")\n",
        "harga = float(input(\"Masukkan harga barang: \"))\n",
        "jumlah = int(input(\"Masukkan jumlah barang: \"))\n",
        "total = harga * jumlah\n",
        "if total >= 500000:\n",
        "  diskon = 0.2\n",
        "elif total >= 250000:\n",
        "  diskon = 0.1\n",
        "else:\n",
        "  diskon = 0\n",
        "\n",
        "bayar = total - (total * diskon)\n",
        "print(\"\\n===== Struk Belanja =====\")\n",
        "print(f\"Barang : {barang}\")\n",
        "print(f\"Jumlah : {jumlah}\")\n",
        "print(f\"Total : Rp {total}\")\n",
        "print(f\"Diskon : {diskon*100}%\")\n",
        "print(f\"Bayar : Rp {bayar}\")\n"
      ],
      "metadata": {
        "colab": {
          "base_uri": "https://localhost:8080/"
        },
        "id": "hklyWGaiqQDH",
        "outputId": "417ba543-a2db-4889-8152-2c9c9ded73d9"
      },
      "execution_count": 25,
      "outputs": [
        {
          "output_type": "stream",
          "name": "stdout",
          "text": [
            "Masukkan nama barang: PULPPEN\n",
            "Masukkan harga barang: 5000\n",
            "Masukkan jumlah barang: 10\n",
            "\n",
            "===== Struk Belanja =====\n",
            "Barang : PULPPEN\n",
            "Jumlah : 10\n",
            "Total : Rp 50000.0\n",
            "Diskon : 0%\n",
            "Bayar : Rp 50000.0\n"
          ]
        }
      ]
    },
    {
      "cell_type": "markdown",
      "source": [
        "# **PENUGASAN 1: CEK BILANGAN POSITIF/NEGATIF/NOL**"
      ],
      "metadata": {
        "id": "DxDP14EutAt_"
      }
    },
    {
      "cell_type": "code",
      "source": [
        "a = int(input('masukkan angka: '))\n",
        "\n",
        "if a > 0 :\n",
        "  print('angka bilangan positif')\n",
        "elif a == 0:\n",
        "  print('angka bilangan nol')\n",
        "else:\n",
        "  print('angka bilangan negatif')"
      ],
      "metadata": {
        "colab": {
          "base_uri": "https://localhost:8080/"
        },
        "id": "HDImMhe0tOg8",
        "outputId": "3e1678fd-ee07-42c1-b295-7d8858fbeb5c"
      },
      "execution_count": 28,
      "outputs": [
        {
          "output_type": "stream",
          "name": "stdout",
          "text": [
            "masukkan angka: -8\n",
            "angka bilangan negatif\n"
          ]
        }
      ]
    },
    {
      "cell_type": "markdown",
      "source": [
        "# **PENUGASAN 2: MENENTUKAN KATEGORI USIA**"
      ],
      "metadata": {
        "id": "32PAnMaTt0yf"
      }
    },
    {
      "cell_type": "code",
      "source": [
        "a = input('masukkan nama: ')\n",
        "b = int(input('masukkan usia: '))\n",
        "\n",
        "if b < 6:\n",
        "  print(f'{a} usia balita')\n",
        "elif b > 5 and b < 12:\n",
        "   print(f'{a} usia anak-anak')\n",
        "elif b > 11 and b < 18:\n",
        "   print(f'{a} usia remaja')\n",
        "elif b > 17 and b < 60:\n",
        "   print(f'{a} usia dewasa')\n",
        "else:\n",
        "  print(f'{a} usia lansia')"
      ],
      "metadata": {
        "colab": {
          "base_uri": "https://localhost:8080/"
        },
        "id": "6CCgR-8yuIo_",
        "outputId": "73d35682-b07a-4046-a82b-b3b2dc063222"
      },
      "execution_count": 13,
      "outputs": [
        {
          "output_type": "stream",
          "name": "stdout",
          "text": [
            "masukkan nama: tama\n",
            "masukkan usia: 18\n",
            "tama usia dewasa\n"
          ]
        }
      ]
    },
    {
      "cell_type": "markdown",
      "source": [
        "# **PENUGASAN 3: MENGHITUNG TARIF PARKIR**"
      ],
      "metadata": {
        "id": "YGsLL44DYX4B"
      }
    },
    {
      "cell_type": "code",
      "source": [
        "a = int(input(\"lama waktu parkir: \"))\n",
        "\n",
        "if a <= 2:\n",
        "  tarif = 5000\n",
        "elif a > 2:\n",
        "  tarif = 5000 + (a - 2) * 2000\n",
        "\n",
        "if tarif > 20000:\n",
        "  tarif = 20000\n",
        "\n",
        "print(f\"tarif parkir: Rp {tarif}\")"
      ],
      "metadata": {
        "colab": {
          "base_uri": "https://localhost:8080/"
        },
        "id": "4Gu1asU0YhwS",
        "outputId": "378d22f3-a7aa-4c29-c4f0-afecb1b562f5"
      },
      "execution_count": 12,
      "outputs": [
        {
          "output_type": "stream",
          "name": "stdout",
          "text": [
            "lama waktu parkir: 10\n",
            "tarif parkir: Rp 20000\n"
          ]
        }
      ]
    },
    {
      "cell_type": "markdown",
      "source": [
        "# **PENUGASAN 4: CEK LOGIN SEDERHANA**"
      ],
      "metadata": {
        "id": "d2OhJwhVZhRU"
      }
    },
    {
      "cell_type": "code",
      "source": [
        "a = input('masukkan username: ')\n",
        "b = input('masukkan password: ')\n",
        "\n",
        "if a == 'admin' and b == '1234':\n",
        "  print('login berhasil')\n",
        "else:\n",
        "  print('login gagal')"
      ],
      "metadata": {
        "colab": {
          "base_uri": "https://localhost:8080/"
        },
        "id": "UMsL9bwHZsnf",
        "outputId": "21686f89-6953-477b-a177-9837c3e3c7b9"
      },
      "execution_count": 16,
      "outputs": [
        {
          "output_type": "stream",
          "name": "stdout",
          "text": [
            "masukkan username: admin\n",
            "masukkan password: 1234\n",
            "login berhasil\n"
          ]
        }
      ]
    },
    {
      "cell_type": "markdown",
      "source": [
        "# **PENUGASAN 5: CEK GENAP/GANJIL**"
      ],
      "metadata": {
        "id": "ZOdbXOXaaC4S"
      }
    },
    {
      "cell_type": "code",
      "source": [
        "a = int(input('masukkan angka: '))\n",
        "\n",
        "if a % 2 == 0:\n",
        "  print('angka genap')\n",
        "else:\n",
        "  print('angka ganjil')"
      ],
      "metadata": {
        "colab": {
          "base_uri": "https://localhost:8080/"
        },
        "id": "kMQqXXymaL2H",
        "outputId": "654d5aae-ab07-4148-b272-f62fe8dcbf88"
      },
      "execution_count": 19,
      "outputs": [
        {
          "output_type": "stream",
          "name": "stdout",
          "text": [
            "masukkan angka: 2\n",
            "angka genap\n"
          ]
        }
      ]
    },
    {
      "cell_type": "markdown",
      "source": [
        "# **PENUGASAN 6: MENU RETORAN DENGAN MATCH CASE**"
      ],
      "metadata": {
        "id": "pwylWFdIafeB"
      }
    },
    {
      "cell_type": "code",
      "source": [
        "a = int(input('masukkan angka menu: '))\n",
        "\n",
        "match a:\n",
        "  case 1:\n",
        "    print('nasi goreng')\n",
        "  case 2:\n",
        "    print('mie ayam')\n",
        "  case 3:\n",
        "    print('soto ayam')\n",
        "  case _:\n",
        "    print('menu tidak tersedia')\n"
      ],
      "metadata": {
        "colab": {
          "base_uri": "https://localhost:8080/"
        },
        "id": "zHPxsO9eawdm",
        "outputId": "7d35713c-7051-4740-95ba-049138ccb964"
      },
      "execution_count": 24,
      "outputs": [
        {
          "output_type": "stream",
          "name": "stdout",
          "text": [
            "masukkan angka menu: 11\n",
            "menu tidak tersedia\n"
          ]
        }
      ]
    },
    {
      "cell_type": "markdown",
      "source": [
        "# **PENUGASAN 7: PROGRAM PENENTUAN DISKON**"
      ],
      "metadata": {
        "id": "jv6GAur0f9dL"
      }
    },
    {
      "cell_type": "code",
      "source": [
        "a = input('masukkan nama barang: ')\n",
        "b = int(input('masukkan harga barang: '))\n",
        "c = int(input('masukkan jumlah barang: '))\n",
        "d = b * c\n",
        "\n",
        "if d >= 500000:\n",
        "  diskon = 0.2\n",
        "elif d >= 250000:\n",
        "  diskon = 0.1\n",
        "else:\n",
        "  diskon = 0\n",
        "\n",
        "bayar = d - (d * diskon)\n",
        "print(\"\\n===== Struk Belanja =====\")\n",
        "print(f\"Barang : {a}\")\n",
        "print(f\"Jumlah : {c}\")\n",
        "print(f\"Total : Rp {d}\")\n",
        "print(f\"Diskon : {diskon*100}%\")\n",
        "print(f\"Bayar : Rp {bayar}\")"
      ],
      "metadata": {
        "colab": {
          "base_uri": "https://localhost:8080/"
        },
        "id": "z_qbp423gEbk",
        "outputId": "f35a5592-5708-4a68-8132-469f05945117"
      },
      "execution_count": 29,
      "outputs": [
        {
          "output_type": "stream",
          "name": "stdout",
          "text": [
            "masukkan nama barang: KECAP\n",
            "masukkan harga barang: 55000\n",
            "masukkan jumlah barang: 7\n",
            "\n",
            "===== Struk Belanja =====\n",
            "Barang : KECAP\n",
            "Jumlah : 7\n",
            "Total : Rp 385000\n",
            "Diskon : 10.0%\n",
            "Bayar : Rp 346500.0\n"
          ]
        }
      ]
    }
  ]
}