{
  "nbformat": 4,
  "nbformat_minor": 0,
  "metadata": {
    "colab": {
      "provenance": [],
      "authorship_tag": "ABX9TyMB8K27tXk3ins3VzhfSwC/",
      "include_colab_link": true
    },
    "kernelspec": {
      "name": "python3",
      "display_name": "Python 3"
    },
    "language_info": {
      "name": "python"
    }
  },
  "cells": [
    {
      "cell_type": "markdown",
      "metadata": {
        "id": "view-in-github",
        "colab_type": "text"
      },
      "source": [
        "<a href=\"https://colab.research.google.com/github/mtamamulya/KULIAH_TAMA/blob/main/MUKHLISH_PRATAMA_MULYA_JOBSHEET_2.ipynb\" target=\"_parent\"><img src=\"https://colab.research.google.com/assets/colab-badge.svg\" alt=\"Open In Colab\"/></a>"
      ]
    },
    {
      "cell_type": "markdown",
      "source": [
        "**Praktikum 01 – Pengenalan Variabel dan Tipe Data**"
      ],
      "metadata": {
        "id": "FOV5ChDy7_JS"
      }
    },
    {
      "cell_type": "code",
      "execution_count": 1,
      "metadata": {
        "colab": {
          "base_uri": "https://localhost:8080/"
        },
        "id": "kmgv6akg7qKA",
        "outputId": "bc41f723-9981-4c62-c751-1453b8c77529"
      },
      "outputs": [
        {
          "output_type": "stream",
          "name": "stdout",
          "text": [
            "Umur anda 20 --> <class 'int'>\n",
            "Tinggi anda 175 --> <class 'int'>\n",
            "Nama anda Mukhlish Pratama Mulya --> <class 'str'>\n",
            "Status mahasiswa True --> <class 'bool'>\n",
            "Nilai:  [80, 85, 90] --> <class 'list'>\n",
            "Koordinat:  (10, 5) --> <class 'tuple'>\n",
            "Data mahasiswa:  {'nama': 'Mukhlish Pratama mulya', 'umur': 20, 'prodi': 'TRK'} --> <class 'dict'>\n",
            "Hobi:  {'musik', 'olahraga', 'membaca'} --> <class 'set'>\n"
          ]
        }
      ],
      "source": [
        "# interger\n",
        "umur = 20\n",
        "print(\"Umur anda\",umur , \"-->\", type(umur))\n",
        "\n",
        "#float\n",
        "tinggi = 175\n",
        "print(\"Tinggi anda\",tinggi , \"-->\", type(tinggi))\n",
        "\n",
        "#str\n",
        "nama = \"Mukhlish Pratama Mulya\"\n",
        "print(\"Nama anda\",nama , \"-->\", type(nama))\n",
        "\n",
        "#bool\n",
        "mahasiswa = True\n",
        "print(\"Status mahasiswa\",mahasiswa , \"-->\", type(mahasiswa))\n",
        "\n",
        "#list\n",
        "nilai = [80, 85, 90]\n",
        "print(\"Nilai: \", nilai, \"-->\", type(nilai) )\n",
        "\n",
        "# Tuple\n",
        "koordinat = (10, 5)\n",
        "print('Koordinat: ', koordinat, '-->', type(koordinat))\n",
        "\n",
        "#dictionary\n",
        "data_mahasiswa ={'nama':'Mukhlish Pratama mulya', 'umur': 20, 'prodi': 'TRK'}\n",
        "print ('Data mahasiswa: ', data_mahasiswa, '-->', type(data_mahasiswa))\n",
        "\n",
        "#set\n",
        "hobi = {\"membaca\", \"olahraga\", \"musik\"}\n",
        "print ('Hobi: ', hobi, '-->', type(hobi))\n"
      ]
    },
    {
      "cell_type": "markdown",
      "source": [
        "**Praktikum 02 – Input dan Output Dasar**"
      ],
      "metadata": {
        "id": "y0H2JI948REF"
      }
    },
    {
      "cell_type": "code",
      "source": [
        "# Input string\n",
        "nama = input(\"Masukkan nama Anda: \")\n",
        "# Input integer\n",
        "umur = int(input(\"Masukkan umur Anda: \"))\n",
        "# Input float\n",
        "tinggi = float(input(\"Masukkan tinggi badan (cm): \"))\n",
        "# Output standar\n",
        "print(\"Halo,\", nama, \"umur Anda:\", umur, \"tahun, tinggi:\", tinggi, \"cm\")\n",
        "# Output dengan format()\n",
        "print(\"Halo {0}, umur Anda {1} tahun, tinggi {2} cm\".format(nama, umur, tinggi))\n",
        "# Output dengan f-string\n",
        "print(f\"Halo {nama}, umur Anda {umur} tahun, tinggi {tinggi} cm\")\n",
        "\n"
      ],
      "metadata": {
        "colab": {
          "base_uri": "https://localhost:8080/"
        },
        "id": "7F3zz3pR8XzU",
        "outputId": "92a0c8e4-03fa-4157-b9de-89e6c925f9d3"
      },
      "execution_count": 2,
      "outputs": [
        {
          "output_type": "stream",
          "name": "stdout",
          "text": [
            "Masukkan nama Anda: TAMA\n",
            "Masukkan umur Anda: 19\n",
            "Masukkan tinggi badan (cm): 165\n",
            "Halo, TAMA umur Anda: 19 tahun, tinggi: 165.0 cm\n",
            "Halo TAMA, umur Anda 19 tahun, tinggi 165.0 cm\n",
            "Halo TAMA, umur Anda 19 tahun, tinggi 165.0 cm\n"
          ]
        }
      ]
    },
    {
      "cell_type": "markdown",
      "source": [
        "**Praktikum 03 – Operator Aritmatika**"
      ],
      "metadata": {
        "id": "7Em6OqUr8gAH"
      }
    },
    {
      "cell_type": "code",
      "source": [
        "a = 15\n",
        "b = 4\n",
        "\n",
        "print(\"a + b =\", a + b)\n",
        "print(\"a - b =\", a - b)\n",
        "print(\"a * b =\", a * b)\n",
        "print(\"a / b =\", a / b)\n",
        "print(\"a // b =\", a // b)\n",
        "print(\"a % b =\", a % b)\n",
        "print(\"a ** b =\", a ** b)"
      ],
      "metadata": {
        "colab": {
          "base_uri": "https://localhost:8080/"
        },
        "id": "6nFDM_CQ8lTW",
        "outputId": "63ccee76-52ad-46a3-c369-cfae88aa7b64"
      },
      "execution_count": 3,
      "outputs": [
        {
          "output_type": "stream",
          "name": "stdout",
          "text": [
            "a + b = 19\n",
            "a - b = 11\n",
            "a * b = 60\n",
            "a / b = 3.75\n",
            "a // b = 3\n",
            "a % b = 3\n",
            "a ** b = 50625\n"
          ]
        }
      ]
    },
    {
      "cell_type": "markdown",
      "source": [
        "**Praktikum 04 – Operator Relasional**"
      ],
      "metadata": {
        "id": "g3o9MJG_8ph4"
      }
    },
    {
      "cell_type": "code",
      "source": [
        "x = 10\n",
        "y = 20\n",
        "\n",
        "print(\"x == y :\", x == y)\n",
        "print(\"x != y :\", x != y)\n",
        "print(\"x < y :\", x < y)\n",
        "print(\"x > y :\", x > y)\n",
        "print(\"x <= y :\", x <= y)\n",
        "print(\"x >= y :\", x >= y)"
      ],
      "metadata": {
        "colab": {
          "base_uri": "https://localhost:8080/"
        },
        "id": "s4h3oc6M8uaP",
        "outputId": "da99955e-7529-4ab9-aafd-e1e8780ffa2d"
      },
      "execution_count": 4,
      "outputs": [
        {
          "output_type": "stream",
          "name": "stdout",
          "text": [
            "x == y : False\n",
            "x != y : True\n",
            "x < y : True\n",
            "x > y : False\n",
            "x <= y : True\n",
            "x >= y : False\n"
          ]
        }
      ]
    },
    {
      "cell_type": "markdown",
      "source": [
        "**Praktikum 05 – Operator Logika dengan Studi Kasus Nyata**"
      ],
      "metadata": {
        "id": "80xIbdIh8xX7"
      }
    },
    {
      "cell_type": "code",
      "source": [
        "# Operator logika dasar\n",
        "a = True\n",
        "b = False\n",
        "print(\"a and b =\", a and b)\n",
        "print(\"a or b =\", a or b)\n",
        "print(\"not a\t=\", not a)\n",
        "# Studi kasus nyata: kelulusan\n",
        "nilai = int(input(\"Masukkan nilai ujian: \"))\n",
        "hadir = int(input(\"Masukkan jumlah kehadiran: \"))\n",
        "lulus_nilai = nilai >= 60\n",
        "lulus_hadir = hadir >= 12 # dari 16 pertemuan 15:\n",
        "if lulus_nilai and lulus_hadir:\n",
        "\tprint(\"Status: LULUS\")\n",
        "else:\n",
        "    print(\"Status: TIDAK LULUS\")"
      ],
      "metadata": {
        "colab": {
          "base_uri": "https://localhost:8080/"
        },
        "id": "7C87K5xs81_V",
        "outputId": "66b05ce5-6e96-4c41-dd21-98df5786d89e"
      },
      "execution_count": 5,
      "outputs": [
        {
          "output_type": "stream",
          "name": "stdout",
          "text": [
            "a and b = False\n",
            "a or b = True\n",
            "not a\t= False\n",
            "Masukkan nilai ujian: 19\n",
            "Masukkan jumlah kehadiran: 9\n",
            "Status: TIDAK LULUS\n"
          ]
        }
      ]
    },
    {
      "cell_type": "markdown",
      "source": [
        "**Praktikum 06 – Program Kasir Sederhana**"
      ],
      "metadata": {
        "id": "ODEoQNDa9Rvr"
      }
    },
    {
      "cell_type": "code",
      "source": [
        "barang = input(\"Masukkan nama barang: \")\n",
        "harga = float(input(\"Masukkan harga barang: \"))\n",
        "jumlah = int(input(\"Masukkan jumlah barang: \"))\n",
        "\n",
        "total = harga * jumlah\n",
        "# Aturan diskon\n",
        "if total >= 500000:\n",
        "  diskon = 0.2\n",
        "elif total >= 250000:\n",
        "  diskon = 0.1\n",
        "else:\n",
        "  diskon = 0\n",
        "\n",
        "potongan = total * diskon\n",
        "bayar = total - potongan\n",
        "print(\"\\n===== Struk Belanja =====\")\n",
        "print(f\"Barang : {barang}\")\n",
        "print(f\"Jumlah : {jumlah}\")\n",
        "print(f\"Total : Rp {total}\")\n",
        "print(f\"Diskon : {diskon * 100}%\")\n",
        "print(f\"Bayar : Rp {bayar}\")\n",
        "\n"
      ],
      "metadata": {
        "colab": {
          "base_uri": "https://localhost:8080/"
        },
        "id": "QM8pmEVr9YVu",
        "outputId": "3dd7789e-36c5-4d25-c596-d634c492847c"
      },
      "execution_count": 10,
      "outputs": [
        {
          "output_type": "stream",
          "name": "stdout",
          "text": [
            "Masukkan nama barang: SABUN MANDI\n",
            "Masukkan harga barang: 10000\n",
            "Masukkan jumlah barang: 50\n",
            "\n",
            "===== Struk Belanja =====\n",
            "Barang : SABUN MANDI\n",
            "Jumlah : 50\n",
            "Total : Rp 500000.0\n",
            "Diskon : 20.0%\n",
            "Bayar : Rp 400000.0\n"
          ]
        }
      ]
    },
    {
      "cell_type": "markdown",
      "source": [
        "**PENUGASAN JOBSHEET2: IDENTITAS MAHASISWA**"
      ],
      "metadata": {
        "id": "gMfgF2xy_E8p"
      }
    },
    {
      "cell_type": "code",
      "source": [
        "nama = str(input('masukan nama anda: '))\n",
        "umur = int(input('masukan umur anda: '))\n",
        "tinggi = float(input('masukan tinggi anda: '))\n",
        "status = True\n",
        "\n",
        "print(f'perkenalkan nama saya {nama} saya berumur {umur} dan tinggi badan saya {tinggi}, mahasiswa polines. status={status} ')\n"
      ],
      "metadata": {
        "colab": {
          "base_uri": "https://localhost:8080/"
        },
        "id": "ZnJCxIXj_SMw",
        "outputId": "7e243642-03fd-4c98-f874-644dff52eaae"
      },
      "execution_count": 21,
      "outputs": [
        {
          "output_type": "stream",
          "name": "stdout",
          "text": [
            "masukan nama anda: Mukhlish Pratama Mulya\n",
            "masukan umur anda: 19\n",
            "masukan tinggi anda: 165\n",
            "perkenalkan nama saya Mukhlish Pratama Mulya saya berumur 19 dan tinggi badan saya 165.0, mahasiswa polines. status=True \n"
          ]
        }
      ]
    },
    {
      "cell_type": "markdown",
      "source": [
        "**PENUGASAN JOBSHEET2: OPERASI ARITMATIKA**"
      ],
      "metadata": {
        "id": "tE1ZVO7aD-Rv"
      }
    },
    {
      "cell_type": "code",
      "source": [
        "a = int(input(\"masukkan angka pertama: \"))\n",
        "b = int(input(\"masukkan angka kedua: \"))\n",
        "\n",
        "print(\"a + b =\", a + b)\n",
        "print(\"a - b =\", a - b)\n",
        "print(\"a * b =\", a * b)\n",
        "print(\"a / b =\", a / b)\n",
        "print(\"a // b =\", a // b)\n",
        "print(\"a % b =\", a % b)\n",
        "print(\"a ** b =\", a ** b)"
      ],
      "metadata": {
        "colab": {
          "base_uri": "https://localhost:8080/"
        },
        "id": "dswp8PygEH3O",
        "outputId": "1981ead6-2e5d-430d-fdd8-53f0eb016d3c"
      },
      "execution_count": 22,
      "outputs": [
        {
          "output_type": "stream",
          "name": "stdout",
          "text": [
            "masukkan angka pertama: 10\n",
            "masukkan angka kedua: 2\n",
            "a + b = 12\n",
            "a - b = 8\n",
            "a * b = 20\n",
            "a / b = 5.0\n",
            "a // b = 5\n",
            "a % b = 0\n",
            "a ** b = 100\n"
          ]
        }
      ]
    },
    {
      "cell_type": "markdown",
      "source": [
        "**PENUGASAN JOBSHEET2: NILAI KONVERSI**"
      ],
      "metadata": {
        "id": "PclGPbRpEp8K"
      }
    },
    {
      "cell_type": "code",
      "source": [
        "a = float(input(\"Masukkan angka desimal: \"))\n",
        "\n",
        "print(\"Dalam bentuk integer:\", int(a))\n",
        "print(\"Dalam bentuk string:\", str(a))\n",
        "print(\"Pembulatan 2 digit:\", round(a, 2))"
      ],
      "metadata": {
        "colab": {
          "base_uri": "https://localhost:8080/"
        },
        "id": "4-gYaWKBE2X4",
        "outputId": "6af652cd-db93-429b-c072-9dee32aabd28"
      },
      "execution_count": 26,
      "outputs": [
        {
          "output_type": "stream",
          "name": "stdout",
          "text": [
            "Masukkan angka desimal: 1332.432\n",
            "Dalam bentuk integer: 1332\n",
            "Dalam bentuk string: 1332.432\n",
            "Pembulatan 2 digit: 1332.43\n"
          ]
        }
      ]
    },
    {
      "cell_type": "markdown",
      "source": [
        "**PENUGASAN JOBSHEET2: OPERATOR RASIONAL**"
      ],
      "metadata": {
        "id": "OJSjiXtPFtyW"
      }
    },
    {
      "cell_type": "code",
      "source": [
        "a = float(input(\"Masukkan angka pertama: \"))\n",
        "b = float(input(\"Masukkan angka kedua: \"))\n",
        "\n",
        "print(f\"{a} == {b} :\", a == b)\n",
        "print(f\"{a} != {b} :\", a != b)\n",
        "print(f\"{a} < {b} :\", a < b)\n",
        "print(f\"{a} > {b} :\", a > b)\n",
        "print(f\"{a} <= {b} :\", a <= b)\n",
        "print(f\"{a} >= {b} :\", a >= b)"
      ],
      "metadata": {
        "colab": {
          "base_uri": "https://localhost:8080/"
        },
        "id": "eTdpvx5QF0d7",
        "outputId": "9770d941-0628-4435-d59c-9ca8ef548dad"
      },
      "execution_count": 27,
      "outputs": [
        {
          "output_type": "stream",
          "name": "stdout",
          "text": [
            "Masukkan angka pertama: 10\n",
            "Masukkan angka kedua: 5\n",
            "10.0 == 5.0 : False\n",
            "10.0 != 5.0 : True\n",
            "10.0 < 5.0 : False\n",
            "10.0 > 5.0 : True\n",
            "10.0 <= 5.0 : False\n",
            "10.0 >= 5.0 : True\n"
          ]
        }
      ]
    }
  ]
}