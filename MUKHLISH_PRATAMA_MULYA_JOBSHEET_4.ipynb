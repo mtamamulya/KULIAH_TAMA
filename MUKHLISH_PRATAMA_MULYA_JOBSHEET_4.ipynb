{
  "nbformat": 4,
  "nbformat_minor": 0,
  "metadata": {
    "colab": {
      "provenance": [],
      "authorship_tag": "ABX9TyNiiSnh8Z5rCXvzIczyv4sS",
      "include_colab_link": true
    },
    "kernelspec": {
      "name": "python3",
      "display_name": "Python 3"
    },
    "language_info": {
      "name": "python"
    }
  },
  "cells": [
    {
      "cell_type": "markdown",
      "metadata": {
        "id": "view-in-github",
        "colab_type": "text"
      },
      "source": [
        "<a href=\"https://colab.research.google.com/github/mtamamulya/KULIAH_TAMA/blob/main/MUKHLISH_PRATAMA_MULYA_JOBSHEET_4.ipynb\" target=\"_parent\"><img src=\"https://colab.research.google.com/assets/colab-badge.svg\" alt=\"Open In Colab\"/></a>"
      ]
    },
    {
      "cell_type": "markdown",
      "source": [
        "# **PRAKTIKUM 4**"
      ],
      "metadata": {
        "id": "Zvqhl3CzjjCv"
      }
    },
    {
      "cell_type": "code",
      "execution_count": 20,
      "metadata": {
        "colab": {
          "base_uri": "https://localhost:8080/"
        },
        "id": "3zZsOKUrV-YQ",
        "outputId": "51485430-9664-4202-ab5f-202d827300c4"
      },
      "outputs": [
        {
          "output_type": "stream",
          "name": "stdout",
          "text": [
            "1\n",
            "2\n",
            "3\n",
            "4\n"
          ]
        }
      ],
      "source": [
        "for i in range(1,5):\n",
        "  print(i)"
      ]
    },
    {
      "cell_type": "code",
      "source": [
        "n = int(input(\"masukkan angka: \"))\n",
        "while n > 0:\n",
        "  print(n)\n",
        "  n -= 1"
      ],
      "metadata": {
        "colab": {
          "base_uri": "https://localhost:8080/"
        },
        "id": "Dv2KLqWrfK9d",
        "outputId": "59edc234-5ee6-457d-8cb5-9d86c8fd9f13"
      },
      "execution_count": 18,
      "outputs": [
        {
          "output_type": "stream",
          "name": "stdout",
          "text": [
            "masukkan angka: 5\n",
            "5\n",
            "4\n",
            "3\n",
            "2\n",
            "1\n"
          ]
        }
      ]
    },
    {
      "cell_type": "code",
      "source": [
        "for i in range(1,5):\n",
        "  for j in range(i):\n",
        "    print(\"*\",end=\"\")\n",
        "  print()"
      ],
      "metadata": {
        "colab": {
          "base_uri": "https://localhost:8080/"
        },
        "id": "mDAdCZS3fjcT",
        "outputId": "7495e012-308f-4aee-cd88-9287cc862779"
      },
      "execution_count": 21,
      "outputs": [
        {
          "output_type": "stream",
          "name": "stdout",
          "text": [
            "*\n",
            "**\n",
            "***\n",
            "****\n"
          ]
        }
      ]
    },
    {
      "cell_type": "code",
      "source": [
        "for i in range(1,20):\n",
        "  if i == 10:\n",
        "    print(f\"angka {i} ditemukan\")\n",
        "    break\n",
        "  print(i)"
      ],
      "metadata": {
        "colab": {
          "base_uri": "https://localhost:8080/"
        },
        "id": "__6_gpRGgD_j",
        "outputId": "b9bed874-da8f-4441-c021-8a2242043c90"
      },
      "execution_count": 23,
      "outputs": [
        {
          "output_type": "stream",
          "name": "stdout",
          "text": [
            "1\n",
            "2\n",
            "3\n",
            "4\n",
            "5\n",
            "6\n",
            "7\n",
            "8\n",
            "9\n",
            "angka 10 ditemukan\n"
          ]
        }
      ]
    },
    {
      "cell_type": "code",
      "source": [
        "for i in range(1,5):\n",
        "  if i % 2 == 1:\n",
        "    continue\n",
        "  print(i)"
      ],
      "metadata": {
        "colab": {
          "base_uri": "https://localhost:8080/"
        },
        "id": "4cIuvoJAgt9k",
        "outputId": "f34f0712-5d86-4c89-d187-700b09afb308"
      },
      "execution_count": 24,
      "outputs": [
        {
          "output_type": "stream",
          "name": "stdout",
          "text": [
            "2\n",
            "4\n"
          ]
        }
      ]
    },
    {
      "cell_type": "code",
      "source": [
        "data = {\"Nama\": \"Andi\", \"Umur\": 20, \"Prodi\": \"TRK\"}\n",
        "for k,v, in data.items():\n",
        "    print(f\"{k} : {v}\")"
      ],
      "metadata": {
        "colab": {
          "base_uri": "https://localhost:8080/"
        },
        "id": "eGORiF6lhBaG",
        "outputId": "2655ce32-de90-4227-a86d-251f585c8f0f"
      },
      "execution_count": 13,
      "outputs": [
        {
          "output_type": "stream",
          "name": "stdout",
          "text": [
            "Nama : Andi\n",
            "Umur : 20\n",
            "Prodi : TRK\n"
          ]
        }
      ]
    },
    {
      "cell_type": "code",
      "source": [
        "daftar = [\"andi\",\"budi\",\"cici\"]\n",
        "\n",
        "for i, nama in enumerate(daftar, start=1):\n",
        "  print(f\"{i}. {nama}\")"
      ],
      "metadata": {
        "colab": {
          "base_uri": "https://localhost:8080/"
        },
        "id": "gUFaVa9mhy-M",
        "outputId": "ac23e0f4-2f3f-4657-a7bf-713a5893887a"
      },
      "execution_count": 25,
      "outputs": [
        {
          "output_type": "stream",
          "name": "stdout",
          "text": [
            "1. andi\n",
            "2. budi\n",
            "3. cici\n"
          ]
        }
      ]
    },
    {
      "cell_type": "code",
      "source": [
        "total = 0\n",
        "while True:\n",
        "  barang = input(\"masukkan nama barang (ketik 'selesai' untuk berhenti): \")\n",
        "  if barang.lower() == \"selesai\":\n",
        "    break\n",
        "  harga = float(input(f\"masukkan harga {barang}: \"))\n",
        "  jumlah = int(input(f\"masukkan jumlah {barang}: \"))\n",
        "  total += harga * jumlah\n",
        "\n",
        "print(\"\\n===== struk belanja =====\")\n",
        "print(f\"total belanja: Rp {total}\")"
      ],
      "metadata": {
        "colab": {
          "base_uri": "https://localhost:8080/"
        },
        "id": "BnShkdq7mKkz",
        "outputId": "896e604d-561f-4a1b-a32e-f0db0af54527"
      },
      "execution_count": 26,
      "outputs": [
        {
          "output_type": "stream",
          "name": "stdout",
          "text": [
            "masukkan nama barang (ketik 'selesai' untuk berhenti): Buku\n",
            "masukkan harga Buku: 50000\n",
            "masukkan jumlah Buku: 2\n",
            "masukkan nama barang (ketik 'selesai' untuk berhenti): Pulpen\n",
            "masukkan harga Pulpen: 5000\n",
            "masukkan jumlah Pulpen: 3\n",
            "masukkan nama barang (ketik 'selesai' untuk berhenti): selesai\n",
            "\n",
            "===== struk belanja =====\n",
            "total belanja: Rp 115000.0\n"
          ]
        }
      ]
    },
    {
      "cell_type": "markdown",
      "source": [
        "# **PENUGASAN PRAKTIKUM 4**"
      ],
      "metadata": {
        "id": "-71bQN9YpxoP"
      }
    },
    {
      "cell_type": "code",
      "source": [
        "for i in range(3,31,3):\n",
        "  print(i)"
      ],
      "metadata": {
        "colab": {
          "base_uri": "https://localhost:8080/"
        },
        "id": "bKftB_PKp-RO",
        "outputId": "b7560c21-f851-413d-8e6a-e1a6ff2108f6"
      },
      "execution_count": 28,
      "outputs": [
        {
          "output_type": "stream",
          "name": "stdout",
          "text": [
            "3\n",
            "6\n",
            "9\n",
            "12\n",
            "15\n",
            "18\n",
            "21\n",
            "24\n",
            "27\n",
            "30\n"
          ]
        }
      ]
    },
    {
      "cell_type": "code",
      "source": [
        "angka = int(input(\"Masukkan angka positif: \"))\n",
        "if angka < 0:\n",
        "    print(\"faktorial tidak bisa angka negatif\")\n",
        "else:\n",
        "    fktr = 1\n",
        "    i = angka\n",
        "    while i > 0:\n",
        "        fktr *= i\n",
        "        i -= 1\n",
        "        print(fktr,i)\n",
        "    print(f\"faktorial dari {angka} adalah {fktr}\")"
      ],
      "metadata": {
        "colab": {
          "base_uri": "https://localhost:8080/"
        },
        "id": "gPHgtlEutwKF",
        "outputId": "f850817d-a5b8-4b08-cdeb-80b954c4e218"
      },
      "execution_count": 49,
      "outputs": [
        {
          "output_type": "stream",
          "name": "stdout",
          "text": [
            "Masukkan angka positif: 10\n",
            "10 9\n",
            "90 8\n",
            "720 7\n",
            "5040 6\n",
            "30240 5\n",
            "151200 4\n",
            "604800 3\n",
            "1814400 2\n",
            "3628800 1\n",
            "3628800 0\n",
            "faktorial dari 10 adalah 3628800\n"
          ]
        }
      ]
    },
    {
      "cell_type": "code",
      "source": [
        "n = 6\n",
        "for i in range (n):\n",
        "  n -= 1\n",
        "  for j in range(n):\n",
        "    print('*',end='')\n",
        "  print()"
      ],
      "metadata": {
        "colab": {
          "base_uri": "https://localhost:8080/"
        },
        "id": "n3UwVEAm5LHw",
        "outputId": "4e63bc1c-0e9c-4a6a-a989-d68fd1d5e966"
      },
      "execution_count": 62,
      "outputs": [
        {
          "output_type": "stream",
          "name": "stdout",
          "text": [
            "*****\n",
            "****\n",
            "***\n",
            "**\n",
            "*\n",
            "\n"
          ]
        }
      ]
    },
    {
      "cell_type": "code",
      "source": [
        "n = int(input(\"masukkan angka positif: \"))\n",
        "if n <= 1:\n",
        "    print(f\"{n} bukan bilangan prima\")\n",
        "else:\n",
        "    for i in range(2, n):\n",
        "        if (n % i) == 0:\n",
        "            print(f\"{n} bukan bilangan prima (karena habis dibagi {i})\")\n",
        "            break\n",
        "    else:\n",
        "        print(f\"{n} bilangan prima\")"
      ],
      "metadata": {
        "colab": {
          "base_uri": "https://localhost:8080/"
        },
        "id": "bPBXlaR0695j",
        "outputId": "bcc8bde2-b98a-4049-c64d-8ae1e55ebad3"
      },
      "execution_count": 75,
      "outputs": [
        {
          "output_type": "stream",
          "name": "stdout",
          "text": [
            "masukkan angka positif: 2\n",
            "2 bilangan prima\n"
          ]
        }
      ]
    },
    {
      "cell_type": "code",
      "source": [
        "for i in range(1,21):\n",
        "  if i % 2 == 1:\n",
        "    continue\n",
        "  print(i)"
      ],
      "metadata": {
        "colab": {
          "base_uri": "https://localhost:8080/"
        },
        "id": "w0agZRpB_OTy",
        "outputId": "8b574e91-6573-4909-98e6-451111b53998"
      },
      "execution_count": 77,
      "outputs": [
        {
          "output_type": "stream",
          "name": "stdout",
          "text": [
            "2\n",
            "4\n",
            "6\n",
            "8\n",
            "10\n",
            "12\n",
            "14\n",
            "16\n",
            "18\n",
            "20\n"
          ]
        }
      ]
    },
    {
      "cell_type": "code",
      "source": [
        "mahasiswa = {\"Nama\":\"Budi\", \"Umur\":21, \"Prodi\":\"Teknik Komputer\"}\n",
        "\n",
        "for k,v in mahasiswa.items():\n",
        "  print(f'{k}: {v}')"
      ],
      "metadata": {
        "colab": {
          "base_uri": "https://localhost:8080/"
        },
        "id": "ucZhugzo_4SK",
        "outputId": "a2e4c152-fcea-4386-c9a7-d5728b06ac30"
      },
      "execution_count": 79,
      "outputs": [
        {
          "output_type": "stream",
          "name": "stdout",
          "text": [
            "Nama: Budi\n",
            "Umur: 21\n",
            "Prodi: Teknik Komputer\n"
          ]
        }
      ]
    },
    {
      "cell_type": "code",
      "source": [
        "daftar = [\"Buku\", \"Pulpen\", \"Tas\"]\n",
        "\n",
        "for i, nama in enumerate(daftar, start=1):\n",
        "  print(f\"{i}. {nama}\")"
      ],
      "metadata": {
        "colab": {
          "base_uri": "https://localhost:8080/"
        },
        "id": "E2Dg21RXAX6G",
        "outputId": "b4ca528c-6888-4a0a-a558-7cee9f995d09"
      },
      "execution_count": 80,
      "outputs": [
        {
          "output_type": "stream",
          "name": "stdout",
          "text": [
            "1. Buku\n",
            "2. Pulpen\n",
            "3. Tas\n"
          ]
        }
      ]
    },
    {
      "cell_type": "code",
      "source": [
        "daftar_belanja = []\n",
        "total = 0\n",
        "while True:\n",
        "\n",
        "  barang = input(\"masukkan nama barang (ketik 'selesai' untuk berhenti): \")\n",
        "  if barang.lower() == \"selesai\":\n",
        "    break\n",
        "  harga = float(input(f\"masukkan harga {barang}: \"))\n",
        "  jumlah = int(input(f\"masukkan jumlah {barang}: \"))\n",
        "  sub_total= harga * jumlah\n",
        "  total += sub_total\n",
        "  daftar_belanja.append({\n",
        "        'nama': barang,\n",
        "        'jumlah': jumlah,\n",
        "        'harga': harga,\n",
        "        'subtotal': sub_total\n",
        "    })\n",
        "if total >= 200000:\n",
        "  diskon = total * 0.1\n",
        "  af_dis = total - diskon\n",
        "else:\n",
        "  diskon = 0\n",
        "  af_dis = total\n",
        "\n",
        "\n",
        "print(\"\\n===== struk belanja =====\")\n",
        "for item in daftar_belanja:\n",
        "  print(f\"{item['nama']} {item['harga']} x {item['jumlah']} = Rp{item['subtotal']}\")\n",
        "print(f\"total harga: Rp {total}\")\n",
        "print(f\"diskon: Rp {diskon}\")\n",
        "print(f\"total belanja: Rp {af_dis}\")"
      ],
      "metadata": {
        "colab": {
          "base_uri": "https://localhost:8080/"
        },
        "id": "7h3Cg3uVAnjU",
        "outputId": "b3ab8a2d-9ad7-4a97-fcdd-23211e9792d7"
      },
      "execution_count": 107,
      "outputs": [
        {
          "output_type": "stream",
          "name": "stdout",
          "text": [
            "masukkan nama barang (ketik 'selesai' untuk berhenti): ayama\n",
            "masukkan harga ayama: 25000\n",
            "masukkan jumlah ayama: 3\n",
            "masukkan nama barang (ketik 'selesai' untuk berhenti): sapi\n",
            "masukkan harga sapi: 75000\n",
            "masukkan jumlah sapi: 6\n",
            "masukkan nama barang (ketik 'selesai' untuk berhenti): selesai\n",
            "\n",
            "===== struk belanja =====\n",
            "ayama 25000.0 x 3 = Rp75000.0\n",
            "sapi 75000.0 x 6 = Rp450000.0\n",
            "total harga: Rp 525000.0\n",
            "diskon: Rp 52500.0\n",
            "total belanja: Rp 472500.0\n"
          ]
        }
      ]
    }
  ]
}