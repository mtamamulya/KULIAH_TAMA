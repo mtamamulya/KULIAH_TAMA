{
  "nbformat": 4,
  "nbformat_minor": 0,
  "metadata": {
    "colab": {
      "provenance": [],
      "authorship_tag": "ABX9TyPvxLqqrWlnHj7g+b1KREzU",
      "include_colab_link": true
    },
    "kernelspec": {
      "name": "python3",
      "display_name": "Python 3"
    },
    "language_info": {
      "name": "python"
    }
  },
  "cells": [
    {
      "cell_type": "markdown",
      "metadata": {
        "id": "view-in-github",
        "colab_type": "text"
      },
      "source": [
        "<a href=\"https://colab.research.google.com/github/mtamamulya/KULIAH_TAMA/blob/main/Mukhlish_Pratama_Mulya_Jobsheet.ipynb\" target=\"_parent\"><img src=\"https://colab.research.google.com/assets/colab-badge.svg\" alt=\"Open In Colab\"/></a>"
      ]
    },
    {
      "cell_type": "code",
      "execution_count": null,
      "metadata": {
        "id": "kRuGn2CxvC7T"
      },
      "outputs": [],
      "source": []
    },
    {
      "cell_type": "markdown",
      "source": [
        "#Praktikum 01. Menghitung luas persegi panjang"
      ],
      "metadata": {
        "id": "Eez17LZoP7k7"
      }
    },
    {
      "cell_type": "code",
      "execution_count": null,
      "metadata": {
        "colab": {
          "base_uri": "https://localhost:8080/"
        },
        "id": "nMguQ2hCO3gv",
        "outputId": "c797f992-9a26-4657-c2a1-a19a6a976a18"
      },
      "outputs": [
        {
          "output_type": "stream",
          "name": "stdout",
          "text": [
            "masukkan panjang: 10\n",
            "masukkan lebar: 2\n",
            "luas persegi panjang:  20\n"
          ]
        }
      ],
      "source": [
        "p = int(input(\"masukkan panjang: \"))\n",
        "l = int(input(\"masukkan lebar: \"))\n",
        "luas = p*l\n",
        "print(\"luas persegi panjang: \", luas)"
      ]
    },
    {
      "cell_type": "markdown",
      "source": [
        "#Praktikum 02. Menghitung luas segitiga"
      ],
      "metadata": {
        "id": "Q55ppTReRbzo"
      }
    },
    {
      "cell_type": "code",
      "source": [
        "import math\n",
        "\n",
        "a = float(input(\"Masukkan sisi a: \"))\n",
        "b = float(input(\"Masukkan sisi b: \"))\n",
        "c = float(input(\"Masukkan sisi c: \"))\n",
        "\n",
        "s = (a + b + c) / 2\n",
        "luas = math.sqrt(s * (s - a) * (s - b) * (s - c))\n",
        "print(\"Luas segitiga =\", luas)"
      ],
      "metadata": {
        "colab": {
          "base_uri": "https://localhost:8080/"
        },
        "id": "dZyFu-7SQlXW",
        "outputId": "a2f9269d-5435-4ae0-d64a-34bf3fa5c8ab"
      },
      "execution_count": null,
      "outputs": [
        {
          "output_type": "stream",
          "name": "stdout",
          "text": [
            "Masukkan sisi a: 3\n",
            "Masukkan sisi b: 4\n",
            "Masukkan sisi c: 5\n",
            "Luas segitiga = 6.0\n"
          ]
        }
      ]
    },
    {
      "cell_type": "markdown",
      "source": [
        "#Praktikum 03. Menghitung konversi suhu"
      ],
      "metadata": {
        "id": "nE_v6-wzRhK3"
      }
    },
    {
      "cell_type": "code",
      "source": [
        "c = float(input(\"Masukkan suhu (°C): \"))\n",
        "f = (c * 9/5) + 32\n",
        "print(\"Hasil konversi =\", f, \"°F\")"
      ],
      "metadata": {
        "colab": {
          "base_uri": "https://localhost:8080/"
        },
        "id": "Nw27QYo3RmRP",
        "outputId": "b490c048-8aa1-4b0a-c534-157d3626aa97"
      },
      "execution_count": null,
      "outputs": [
        {
          "output_type": "stream",
          "name": "stdout",
          "text": [
            "Masukkan suhu (°C): 100\n",
            "Hasil konversi = 212.0 °F\n"
          ]
        }
      ]
    },
    {
      "cell_type": "markdown",
      "source": [],
      "metadata": {
        "id": "gFe6tJNATM0W"
      }
    },
    {
      "cell_type": "markdown",
      "source": [
        "#Praktikum 04. Menghitung umur berdasarkan tahun lahir"
      ],
      "metadata": {
        "id": "1L3jSrLRRnWO"
      }
    },
    {
      "cell_type": "code",
      "source": [
        "tahun_lahir = int(input(\"Masukkan tahun lahir: \"))\n",
        "tahun_sekarang = 2025\n",
        "umur = tahun_sekarang - tahun_lahir\n",
        "print(\"Umur anda =\", umur, \"tahun\")"
      ],
      "metadata": {
        "colab": {
          "base_uri": "https://localhost:8080/"
        },
        "id": "to-aFNk6RrKS",
        "outputId": "9b10d556-6f15-458b-ae86-b80e4eacd63b"
      },
      "execution_count": null,
      "outputs": [
        {
          "output_type": "stream",
          "name": "stdout",
          "text": [
            "Masukkan tahun lahir: 2006\n",
            "Umur anda = 19 tahun\n"
          ]
        }
      ]
    },
    {
      "cell_type": "markdown",
      "source": [
        "#Praktikum 05. Menghitung luas lingkaran"
      ],
      "metadata": {
        "id": "Ei_aQqtITiNB"
      }
    },
    {
      "cell_type": "code",
      "source": [
        "r = float(input(\"Masukkan jari-jari lingkaran: \"))\n",
        "luas = 22/7 * r * r\n",
        "print(\"Luas lingkaran =\", luas)"
      ],
      "metadata": {
        "colab": {
          "base_uri": "https://localhost:8080/"
        },
        "id": "QsOshEWdToL3",
        "outputId": "b0fdd56c-fb58-4c27-d10b-ba65053ddd1a"
      },
      "execution_count": null,
      "outputs": [
        {
          "output_type": "stream",
          "name": "stdout",
          "text": [
            "Masukkan jari-jari lingkaran: 7\n",
            "Luas lingkaran = 154.0\n"
          ]
        }
      ]
    },
    {
      "cell_type": "markdown",
      "source": [
        "#Praktikum 06. Menghitung jumlah tiga bilangan"
      ],
      "metadata": {
        "id": "c1bNLZN6T6qr"
      }
    },
    {
      "cell_type": "code",
      "source": [
        "a = int(input(\"masukkan bilangan pertama: \"))\n",
        "b = int(input(\"masukkan bilangan kedua: \"))\n",
        "c = int(input(\"masukkan bilangan ketiga: \"))\n",
        "count = a + b + c\n",
        "print(f\"Hasil penjumlahan ketiga bil:{count}\")"
      ],
      "metadata": {
        "colab": {
          "base_uri": "https://localhost:8080/"
        },
        "id": "Kaz6oD9MUX8a",
        "outputId": "6a7b9d82-ff95-4d73-abfd-97356cd8b220"
      },
      "execution_count": null,
      "outputs": [
        {
          "output_type": "stream",
          "name": "stdout",
          "text": [
            "masukkan bilangan pertama: 13\n",
            "masukkan bilangan kedua: 21\n",
            "masukkan bilangan ketiga: 14\n",
            "Hasil penjumlahan ketiga bil:48\n"
          ]
        }
      ]
    },
    {
      "cell_type": "markdown",
      "source": [
        "#Penugasan 01. Menghitung volume balok"
      ],
      "metadata": {
        "id": "oCC13BUOVecs"
      }
    },
    {
      "cell_type": "code",
      "source": [
        "p = int(input(\"masukkan panjang balok (m): \"))\n",
        "l = int(input(\"masukkan lebar balok (m): \"))\n",
        "t = int(input(\"masukkan tinggi balok (m): \"))\n",
        "count_balok = p*l*t\n",
        "print(f\"volume balok: {count_balok} m kubik\")"
      ],
      "metadata": {
        "colab": {
          "base_uri": "https://localhost:8080/"
        },
        "id": "C2h5z0FCU6N1",
        "outputId": "5e201033-fc18-4bc2-8b9b-c115a20d5c19"
      },
      "execution_count": null,
      "outputs": [
        {
          "output_type": "stream",
          "name": "stdout",
          "text": [
            "masukkan panjang balok (m): 10\n",
            "masukkan lebar balok (m): 5\n",
            "masukkan tinggi balok (m): 20\n",
            "volume balok: 1000 m kubik\n"
          ]
        }
      ]
    },
    {
      "cell_type": "markdown",
      "source": [
        "#Penugasan 02. Konversi waktu (detik ke jam:menit:detik)"
      ],
      "metadata": {
        "id": "LnBbguc3XADy"
      }
    },
    {
      "cell_type": "code",
      "source": [
        "waktu = int(input(\"masukkan waktu yang ingin dikonversi(detik): \"))\n",
        "if waktu > 0:\n",
        "  jam = waktu // 3600\n",
        "  sisa_detik = waktu % 3600\n",
        "  menit = sisa_detik // 60\n",
        "  detik = sisa_detik % 60\n",
        "  print(f\"{waktu} total detik setara dengan {jam} jam, {menit} menit, {detik} detik \")\n",
        "else:\n",
        "  print(\"inputnya harus bilangan positif diatas 0\")\n"
      ],
      "metadata": {
        "colab": {
          "base_uri": "https://localhost:8080/"
        },
        "id": "6uOcAmynWcVq",
        "outputId": "b74e55ea-a6b0-4f86-aced-0c4c1f0e1591"
      },
      "execution_count": null,
      "outputs": [
        {
          "output_type": "stream",
          "name": "stdout",
          "text": [
            "masukkan waktu yang ingin dikonversi(detik): 100\n",
            "100 total detik setara dengan 0 jam, 1 menit, 40 detik \n"
          ]
        }
      ]
    },
    {
      "cell_type": "markdown",
      "source": [
        "#Penugasan 03. Menghitung rata-rata 3 mata kuliah\n"
      ],
      "metadata": {
        "id": "BN8VUhcRjKeO"
      }
    },
    {
      "cell_type": "code",
      "source": [
        "a = int(input(\"masukkan nilai matkul pertama: \"))\n",
        "b = int(input(\"masukkan nilai matkul kedua: \"))\n",
        "c =  int(input(\"masukkan nilai matkul ketiga: \"))\n",
        "if a and b and c < 100:\n",
        "  rt =  (a+b+c)/3\n",
        "  if rt > 59:\n",
        "    print(f\"nilai rata2 = {rt} selamat anda lulus\")\n",
        "  else:\n",
        "    print(f\"nilai rata2 = {rt} haha anda tidak lulus\")\n",
        "else:\n",
        "  print(\"skala nilai maks 100\")\n"
      ],
      "metadata": {
        "colab": {
          "base_uri": "https://localhost:8080/"
        },
        "id": "ZgorwNm0acYV",
        "outputId": "58df92f6-33e5-4041-b0bb-d452674a507e"
      },
      "execution_count": null,
      "outputs": [
        {
          "output_type": "stream",
          "name": "stdout",
          "text": [
            "masukkan nilai matkul pertama: 70\n",
            "masukkan nilai matkul kedua: 65\n",
            "masukkan nilai matkul ketiga: 38\n",
            "nilai rata2 = 57.666666666666664 haha anda tidak lulus\n"
          ]
        }
      ]
    },
    {
      "cell_type": "markdown",
      "source": [
        "#Penugasan 04. Menghitung diskon belanja"
      ],
      "metadata": {
        "id": "U28XcADokF1X"
      }
    },
    {
      "cell_type": "code",
      "source": [
        "print(\"selamat datang ditoko oren!\")\n",
        "h = int(input(\"masukkan harga belanjaan (dalam ribu): Rp.\"))\n",
        "\n",
        "disc_1 = 499999\n",
        "disc_2 = 249999\n",
        "\n",
        "if h > disc_1:\n",
        "  disc = h * 20/100\n",
        "  h_disc = h - disc\n",
        "  print(f\"Harga sebelum disc Rp.{h}, harga setelah disc Rp.{h_disc}\")\n",
        "elif h > disc_2:\n",
        "  disc = h * 10/100\n",
        "  h_disc = h - disc\n",
        "  print(f\"Harga sebelum disc Rp.{h}, harga setelah disc Rp.{h_disc}\")\n",
        "else:\n",
        "  print(f\"Harga yang harus dibayarkan Rp.{h}, belanja diatas 249.999 untuk mendapatkan disc upto 20%\")\n",
        "print(\"terimakasih telah berbelanjan ditoko oren.\")"
      ],
      "metadata": {
        "colab": {
          "base_uri": "https://localhost:8080/"
        },
        "id": "GTVRoWw_jlKg",
        "outputId": "2bca5f25-c0a3-4507-8fbd-7e2a6671c1e7"
      },
      "execution_count": null,
      "outputs": [
        {
          "output_type": "stream",
          "name": "stdout",
          "text": [
            "selamat datang ditoko oren!\n",
            "masukkan harga belanjaan (dalam ribu): Rp.100000\n",
            "Harga yang harus dibayarkan Rp.100000, belanja diatas 249.999 untuk mendapatkan disc upto 20%\n",
            "terimakasih telah berbelanjan ditoko oren.\n"
          ]
        }
      ]
    },
    {
      "cell_type": "code",
      "source": [],
      "metadata": {
        "id": "VPjPATbPlL9g"
      },
      "execution_count": null,
      "outputs": []
    }
  ]
}