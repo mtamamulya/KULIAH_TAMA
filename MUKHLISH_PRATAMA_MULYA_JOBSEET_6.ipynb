{
  "nbformat": 4,
  "nbformat_minor": 0,
  "metadata": {
    "colab": {
      "provenance": [],
      "authorship_tag": "ABX9TyOiSud6Y40aBYWIm5Y51uEC",
      "include_colab_link": true
    },
    "kernelspec": {
      "name": "python3",
      "display_name": "Python 3"
    },
    "language_info": {
      "name": "python"
    }
  },
  "cells": [
    {
      "cell_type": "markdown",
      "metadata": {
        "id": "view-in-github",
        "colab_type": "text"
      },
      "source": [
        "<a href=\"https://colab.research.google.com/github/mtamamulya/KULIAH_TAMA/blob/main/MUKHLISH_PRATAMA_MULYA_JOBSEET_6.ipynb\" target=\"_parent\"><img src=\"https://colab.research.google.com/assets/colab-badge.svg\" alt=\"Open In Colab\"/></a>"
      ]
    },
    {
      "cell_type": "code",
      "execution_count": 1,
      "metadata": {
        "colab": {
          "base_uri": "https://localhost:8080/"
        },
        "id": "kvzeWr08xc6b",
        "outputId": "7e73388b-5724-4b8d-9709-45db70cf12e0"
      },
      "outputs": [
        {
          "output_type": "stream",
          "name": "stdout",
          "text": [
            "Andi\n",
            "Budi\n",
            "Cici\n"
          ]
        }
      ],
      "source": [
        "mahasiswa = [\"Andi\", \"Budi\", \"Cici\"]\n",
        "print(mahasiswa[0])    # Andi\n",
        "print(mahasiswa[1])    # Budi\n",
        "print(mahasiswa[-1])   # Cici"
      ]
    },
    {
      "cell_type": "code",
      "source": [
        "nilai = [85, 90, 78]\n",
        "nilai[1] = 95\n",
        "nilai.append(100)\n",
        "nilai.remove(78)\n",
        "print(nilai)"
      ],
      "metadata": {
        "colab": {
          "base_uri": "https://localhost:8080/"
        },
        "id": "CYJ8Ed0FxwCl",
        "outputId": "6f5187ff-25ba-49af-9e22-70cfdfc5b42d"
      },
      "execution_count": 2,
      "outputs": [
        {
          "output_type": "stream",
          "name": "stdout",
          "text": [
            "[85, 95, 100]\n"
          ]
        }
      ]
    },
    {
      "cell_type": "code",
      "source": [
        "nilai = [85, 90, 78, 92, 88]\n",
        "print(nilai[0:3])\t# [85, 90, 78]\n",
        "print(nilai[2:])\t# [78, 92, 88]\n",
        "print(nilai[:3])\t# [85, 90, 78]"
      ],
      "metadata": {
        "colab": {
          "base_uri": "https://localhost:8080/"
        },
        "id": "TlqAMMgcyX3l",
        "outputId": "c5e5b6cd-e5ca-4b3b-f3ab-c4bb24ea860f"
      },
      "execution_count": 3,
      "outputs": [
        {
          "output_type": "stream",
          "name": "stdout",
          "text": [
            "[85, 90, 78]\n",
            "[78, 92, 88]\n",
            "[85, 90, 78]\n"
          ]
        }
      ]
    },
    {
      "cell_type": "code",
      "source": [
        "matriks = [\n",
        "    [1, 2, 3],\n",
        "    [4, 5, 6],\n",
        "    [7, 8, 9]\n",
        "]\n",
        "\n",
        "print(matriks[0][0])  # 1\n",
        "print(matriks[1][2])  # 6\n",
        "print(matriks[2])     # [7, 8, 9]"
      ],
      "metadata": {
        "colab": {
          "base_uri": "https://localhost:8080/"
        },
        "id": "EwbJxgYxyh6n",
        "outputId": "81d2d7a7-4477-46f8-bbc7-b38b54f2a547"
      },
      "execution_count": 4,
      "outputs": [
        {
          "output_type": "stream",
          "name": "stdout",
          "text": [
            "1\n",
            "6\n",
            "[7, 8, 9]\n"
          ]
        }
      ]
    },
    {
      "cell_type": "code",
      "source": [
        "A = [[1, 2, 3], [4, 5, 6]]\n",
        "B = [[7, 8, 9], [10, 11, 12]]\n",
        "C = []\n",
        "\n",
        "for i in range(len(A)):\n",
        "    baris = []\n",
        "    for j in range(len(A[0])):\n",
        "        baris.append(A[i][j] + B[i][j])\n",
        "    C.append(baris)\n",
        "print(C)"
      ],
      "metadata": {
        "colab": {
          "base_uri": "https://localhost:8080/"
        },
        "id": "ihJfoxsuy5dR",
        "outputId": "59fa8e4b-6f08-4577-8844-b537ad2a9014"
      },
      "execution_count": 6,
      "outputs": [
        {
          "output_type": "stream",
          "name": "stdout",
          "text": [
            "[[8, 10, 12], [14, 16, 18]]\n"
          ]
        }
      ]
    },
    {
      "cell_type": "code",
      "source": [
        "nilai = [\n",
        "    [80, 90, 85],\n",
        "    [70, 75, 80],\n",
        "    [88, 92, 84]\n",
        "]\n",
        "\n",
        "for i, baris in enumerate(nilai, start=1):\n",
        "    rata = sum(baris) / len(baris)\n",
        "    print(f\"Rata-rata mahasiswa {i}: {rata:.2f}\")"
      ],
      "metadata": {
        "colab": {
          "base_uri": "https://localhost:8080/"
        },
        "id": "ciOKkShbzNks",
        "outputId": "a161a8e6-02e9-46e5-d71b-63de9233f7df"
      },
      "execution_count": 7,
      "outputs": [
        {
          "output_type": "stream",
          "name": "stdout",
          "text": [
            "Rata-rata mahasiswa 1: 85.00\n",
            "Rata-rata mahasiswa 2: 75.00\n",
            "Rata-rata mahasiswa 3: 88.00\n"
          ]
        }
      ]
    },
    {
      "cell_type": "markdown",
      "source": [
        "# **PENUGASAN JOBSHEET 6**"
      ],
      "metadata": {
        "id": "-qTxkbUlz-ew"
      }
    },
    {
      "cell_type": "markdown",
      "source": [
        "# **penugasan 1**"
      ],
      "metadata": {
        "id": "bsErv6gXAQui"
      }
    },
    {
      "cell_type": "code",
      "source": [
        "mahasiswa = [\"Andi\", \"Budi\", \"Cici\", \"Doni\", \"Eka\"]\n",
        "\n",
        "print(f\"Nama pertama: {mahasiswa[0]}\")\n",
        "print(f\"Nama terakhir: {mahasiswa[-1]}\")\n",
        "\n",
        "print(f\"Nama pada indeks ke-2: {mahasiswa[2]}\")"
      ],
      "metadata": {
        "colab": {
          "base_uri": "https://localhost:8080/"
        },
        "id": "vSsXDlKLzO7k",
        "outputId": "c8bd3559-1015-4c64-d99a-75c53ae91403"
      },
      "execution_count": 8,
      "outputs": [
        {
          "output_type": "stream",
          "name": "stdout",
          "text": [
            "Nama pertama: Andi\n",
            "Nama terakhir: Eka\n",
            "Nama pada indeks ke-2: Cici\n"
          ]
        }
      ]
    },
    {
      "cell_type": "markdown",
      "source": [
        "# **penugasan 2**"
      ],
      "metadata": {
        "id": "sCKYgtqgAVee"
      }
    },
    {
      "cell_type": "code",
      "source": [
        "nilai = [70, 75, 80]\n",
        "nilai[1] = 85\n",
        "nilai.append(90)\n",
        "nilai.remove(70)\n",
        "print(nilai)"
      ],
      "metadata": {
        "colab": {
          "base_uri": "https://localhost:8080/"
        },
        "id": "xCPXjHxiPAJv",
        "outputId": "05b20ea6-645d-47ae-adc1-2edd2f7aba9d"
      },
      "execution_count": 1,
      "outputs": [
        {
          "output_type": "stream",
          "name": "stdout",
          "text": [
            "[85, 80, 90]\n"
          ]
        }
      ]
    },
    {
      "cell_type": "markdown",
      "source": [
        "# **penugasan 3**"
      ],
      "metadata": {
        "id": "gs_jC9umAX-G"
      }
    },
    {
      "cell_type": "code",
      "source": [
        "angka = [1, 2, 3, 4, 5, 6, 7, 8, 9, 10]\n",
        "\n",
        "print(f\"List asli: {angka}\")\n",
        "\n",
        "print(f\"3 elemen pertama: {angka[:3]}\")\n",
        "print(f\"4 elemen terakhir: {angka[-4:]}\")\n",
        "print(f\"Elemen indeks genap: {angka[1::2]}\")"
      ],
      "metadata": {
        "colab": {
          "base_uri": "https://localhost:8080/"
        },
        "id": "a_g6diAFPkie",
        "outputId": "21207c34-ddb8-4b15-dd85-23dd3a9391d9"
      },
      "execution_count": 4,
      "outputs": [
        {
          "output_type": "stream",
          "name": "stdout",
          "text": [
            "List asli: [1, 2, 3, 4, 5, 6, 7, 8, 9, 10]\n",
            "3 elemen pertama: [1, 2, 3]\n",
            "4 elemen terakhir: [7, 8, 9, 10]\n",
            "Elemen indeks genap: [2, 4, 6, 8, 10]\n"
          ]
        }
      ]
    },
    {
      "cell_type": "markdown",
      "source": [
        "# **penugasan 4**"
      ],
      "metadata": {
        "id": "qzNXhle1Ab6j"
      }
    },
    {
      "cell_type": "code",
      "source": [
        "matriks = [\n",
        "    [1, 2, 3],\n",
        "    [4, 5, 6]\n",
        "]\n",
        "\n",
        "print(f\"Baris pertama, kolom kedua: {matriks[0][1]}\")\n",
        "print(f\"Baris kedua, kolom ketiga: {matriks[1][2]}\")\n",
        "print(f\"Seluruh baris pertama: {matriks[0]}\")"
      ],
      "metadata": {
        "colab": {
          "base_uri": "https://localhost:8080/"
        },
        "id": "brz0tl4n9H4b",
        "outputId": "423c10ff-bf0c-4adc-da37-2516945fa3f6"
      },
      "execution_count": 1,
      "outputs": [
        {
          "output_type": "stream",
          "name": "stdout",
          "text": [
            "Baris pertama, kolom kedua: 2\n",
            "Baris kedua, kolom ketiga: 6\n",
            "Seluruh baris pertama: [1, 2, 3]\n"
          ]
        }
      ]
    },
    {
      "cell_type": "markdown",
      "source": [
        "# **penugasan 5**"
      ],
      "metadata": {
        "id": "HY5aW5e3Almf"
      }
    },
    {
      "cell_type": "code",
      "source": [
        "matriks_A = [\n",
        "    [1, 2],\n",
        "    [3, 4]\n",
        "]\n",
        "matriks_B = [\n",
        "    [5, 6],\n",
        "    [7, 8]\n",
        "]\n",
        "hasil_C = [\n",
        "    [0, 0],\n",
        "    [0, 0]\n",
        "]\n",
        "\n",
        "for i in range(len(matriks_A)):\n",
        "    for j in range(len(matriks_A[0])):\n",
        "        hasil_C[i][j] = matriks_A[i][j] + matriks_B[i][j]\n",
        "\n",
        "print(f\"Matriks A: {matriks_A}\")\n",
        "print(f\"Matriks B: {matriks_B}\")\n",
        "print(f\"Hasil Penjumlahan: {hasil_C}\")"
      ],
      "metadata": {
        "colab": {
          "base_uri": "https://localhost:8080/"
        },
        "id": "v1NiY9iPBegU",
        "outputId": "a85a4140-523c-4f8d-aab7-e8a6fc663706"
      },
      "execution_count": 8,
      "outputs": [
        {
          "output_type": "stream",
          "name": "stdout",
          "text": [
            "Matriks A: [[1, 2], [3, 4]]\n",
            "Matriks B: [[5, 6], [7, 8]]\n",
            "Hasil Penjumlahan: [[6, 8], [10, 12]]\n"
          ]
        }
      ]
    },
    {
      "cell_type": "markdown",
      "source": [
        "# **penugasan 6**"
      ],
      "metadata": {
        "id": "2ZssGWP4AojC"
      }
    },
    {
      "cell_type": "code",
      "source": [
        "nilai = [\n",
        "    [75, 80, 85],\n",
        "    [60, 70, 65],\n",
        "    [90, 95, 92]\n",
        "]\n",
        "\n",
        "for i, baris in enumerate(nilai, start=1):\n",
        "    rata = sum(baris) / len(baris)\n",
        "    print(f\"Rata-rata mahasiswa {i}: {rata:.2f}\")"
      ],
      "metadata": {
        "colab": {
          "base_uri": "https://localhost:8080/"
        },
        "id": "BtMR63qA9-LC",
        "outputId": "a108ca45-16d3-4b70-af70-4680c7513e9f"
      },
      "execution_count": 2,
      "outputs": [
        {
          "output_type": "stream",
          "name": "stdout",
          "text": [
            "Rata-rata mahasiswa 1: 80.00\n",
            "Rata-rata mahasiswa 2: 65.00\n",
            "Rata-rata mahasiswa 3: 92.33\n"
          ]
        }
      ]
    },
    {
      "cell_type": "markdown",
      "source": [
        "# **penugasan 7**"
      ],
      "metadata": {
        "id": "VoFCllmHBbJM"
      }
    },
    {
      "cell_type": "code",
      "source": [
        "stok = [\n",
        "    [\"Buku\", 20],\n",
        "    [\"Pulpen\", 35],\n",
        "    [\"Penghapus\", 15]\n",
        "]\n",
        "for item in stok:\n",
        "    print(f\"Barang: {item[0]}, Stok: {item[1]}\")\n",
        "\n",
        "print(\"----------------------------\")\n",
        "\n",
        "stok_terbanyak = -1\n",
        "barang_terbanyak = \"\"\n",
        "\n",
        "for item in stok:\n",
        "    nama_barang = item[0]\n",
        "    jumlah_stok = item[1]\n",
        "    if jumlah_stok > stok_terbanyak:\n",
        "        stok_terbanyak = jumlah_stok\n",
        "        barang_terbanyak = nama_barang\n",
        "\n",
        "print(f\"Barang dengan stok terbanyak: {barang_terbanyak} ({stok_terbanyak} buah)\")"
      ],
      "metadata": {
        "colab": {
          "base_uri": "https://localhost:8080/"
        },
        "id": "cHjShp3k9VfR",
        "outputId": "233d8497-75f2-47a9-84f2-b4f93e26911c"
      },
      "execution_count": 7,
      "outputs": [
        {
          "output_type": "stream",
          "name": "stdout",
          "text": [
            "Barang: Buku, Stok: 20\n",
            "Barang: Pulpen, Stok: 35\n",
            "Barang: Penghapus, Stok: 15\n",
            "----------------------------\n",
            "Barang dengan stok terbanyak: Pulpen (35 buah)\n"
          ]
        }
      ]
    }
  ]
}