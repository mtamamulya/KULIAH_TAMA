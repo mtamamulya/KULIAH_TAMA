{
  "nbformat": 4,
  "nbformat_minor": 0,
  "metadata": {
    "colab": {
      "provenance": [],
      "authorship_tag": "ABX9TyNen6g1/BBGnqBnL3px/wzs",
      "include_colab_link": true
    },
    "kernelspec": {
      "name": "python3",
      "display_name": "Python 3"
    },
    "language_info": {
      "name": "python"
    }
  },
  "cells": [
    {
      "cell_type": "markdown",
      "metadata": {
        "id": "view-in-github",
        "colab_type": "text"
      },
      "source": [
        "<a href=\"https://colab.research.google.com/github/mtamamulya/KULIAH_TAMA/blob/main/MUKHLISH_PRATAMA_MULYA_JOBSEET_7.ipynb\" target=\"_parent\"><img src=\"https://colab.research.google.com/assets/colab-badge.svg\" alt=\"Open In Colab\"/></a>"
      ]
    },
    {
      "cell_type": "code",
      "execution_count": 1,
      "metadata": {
        "colab": {
          "base_uri": "https://localhost:8080/"
        },
        "id": "lIHDt2N3OfXu",
        "outputId": "2e197470-1286-4f35-d2e2-28dfeab79e2b"
      },
      "outputs": [
        {
          "output_type": "stream",
          "name": "stdout",
          "text": [
            "Lintang: 7.05\n",
            "Bujur: 110.44\n"
          ]
        }
      ],
      "source": [
        "koordinat = (7.05, 110.44)\n",
        "print(\"Lintang:\", koordinat[0])\n",
        "print(\"Bujur:\", koordinat[1])"
      ]
    },
    {
      "cell_type": "code",
      "source": [
        "mahasiswa = {\n",
        "    \"NIM\": \"20251001\",\n",
        "    \"Nama\": \"Andi\",\n",
        "    \"Prodi\": \"TRK\"\n",
        "}\n",
        "\n",
        "print(\"NIM :\", mahasiswa[\"NIM\"])\n",
        "print(\"Nama:\", mahasiswa[\"Nama\"])\n",
        "print(\"Prodi:\", mahasiswa[\"Prodi\"])"
      ],
      "metadata": {
        "colab": {
          "base_uri": "https://localhost:8080/"
        },
        "id": "VTTeK_CJPO7C",
        "outputId": "2180cb6f-631f-491a-bb74-c6a5b1b9bf0b"
      },
      "execution_count": 5,
      "outputs": [
        {
          "output_type": "stream",
          "name": "stdout",
          "text": [
            "NIM : 20251001\n",
            "Nama: Andi\n",
            "Prodi: TRK\n"
          ]
        }
      ]
    },
    {
      "cell_type": "code",
      "source": [
        "mahasiswa = {\n",
        "    \"NIM\": \"20251001\",\n",
        "    \"Nama\": \"Andi\",\n",
        "    \"Prodi\": \"TRK\"\n",
        "}\n",
        "\n",
        "mahasiswa[\"Umur\"] = 20                 # menambah data\n",
        "mahasiswa[\"Prodi\"] = \"Teknik Komputer\" # memperbarui data\n",
        "del mahasiswa[\"Umur\"]                  # menghapus data\n",
        "\n",
        "print(mahasiswa)"
      ],
      "metadata": {
        "colab": {
          "base_uri": "https://localhost:8080/"
        },
        "id": "ZWKOVawZPUZ_",
        "outputId": "d077bbd3-6367-48bc-85be-576ab48103ee"
      },
      "execution_count": 7,
      "outputs": [
        {
          "output_type": "stream",
          "name": "stdout",
          "text": [
            "{'NIM': '20251001', 'Nama': 'Andi', 'Prodi': 'Teknik Komputer'}\n"
          ]
        }
      ]
    },
    {
      "cell_type": "code",
      "source": [
        "A = {1, 2, 3, 4}\n",
        "B = {3, 4, 5, 6}\n",
        "\n",
        "print(\"Union:\", A | B)\n",
        "print(\"Intersection:\", A & B)\n",
        "print(\"Difference:\", A - B)"
      ],
      "metadata": {
        "colab": {
          "base_uri": "https://localhost:8080/"
        },
        "id": "19kTNEk6PZv8",
        "outputId": "09f98623-b969-4672-98a4-b4f9f1f5fc89"
      },
      "execution_count": 3,
      "outputs": [
        {
          "output_type": "stream",
          "name": "stdout",
          "text": [
            "Union: {1, 2, 3, 4, 5, 6}\n",
            "Intersection: {3, 4}\n",
            "Difference: {1, 2}\n"
          ]
        }
      ]
    },
    {
      "cell_type": "code",
      "source": [
        "mhs1 = {\"Algoritma\", \"Matematika\", \"Bahasa Inggris\"}\n",
        "mhs2 = {\"Algoritma\", \"Basis Data\", \"Matematika\"}\n",
        "\n",
        "print(\"Mata kuliah Mhs1:\", mhs1)\n",
        "print(\"Mata kuliah Mhs2:\", mhs2)\n",
        "print(\"Mata kuliah yang sama:\", mhs1 & mhs2)"
      ],
      "metadata": {
        "colab": {
          "base_uri": "https://localhost:8080/"
        },
        "id": "-miKf67XPf2d",
        "outputId": "3e04b86c-bdf9-4f8d-f062-cc364df3bc97"
      },
      "execution_count": 2,
      "outputs": [
        {
          "output_type": "stream",
          "name": "stdout",
          "text": [
            "Mata kuliah Mhs1: {'Matematika', 'Algoritma', 'Bahasa Inggris'}\n",
            "Mata kuliah Mhs2: {'Matematika', 'Algoritma', 'Basis Data'}\n",
            "Mata kuliah yang sama: {'Matematika', 'Algoritma'}\n"
          ]
        }
      ]
    },
    {
      "cell_type": "code",
      "source": [
        "nilai_mahasiswa = {\n",
        "    \"Andi\": 80,\n",
        "    \"Budi\": 75,\n",
        "    \"Cici\": 90\n",
        "}\n",
        "\n",
        "for nama, nilai in nilai_mahasiswa.items():\n",
        "    print(f\"{nama}: {nilai}\")\n",
        "\n",
        "rata = sum(nilai_mahasiswa.values()) / len(nilai_mahasiswa)\n",
        "print(f\"Rata-rata nilai: {rata:.2f}\")"
      ],
      "metadata": {
        "colab": {
          "base_uri": "https://localhost:8080/"
        },
        "id": "O4Jl8K0iPlUo",
        "outputId": "159afd5c-b77f-49ce-f167-9d5b4dc00257"
      },
      "execution_count": 6,
      "outputs": [
        {
          "output_type": "stream",
          "name": "stdout",
          "text": [
            "Andi: 80\n",
            "Budi: 75\n",
            "Cici: 90\n",
            "Rata-rata nilai: 81.67\n"
          ]
        }
      ]
    },
    {
      "cell_type": "markdown",
      "source": [
        "# **PENUGASAN JOBSHEET 7**"
      ],
      "metadata": {
        "id": "L-cKqM8ZZ93Q"
      }
    },
    {
      "cell_type": "markdown",
      "source": [
        "**TUGAS 1**"
      ],
      "metadata": {
        "id": "TJchPCjEwe_Y"
      }
    },
    {
      "cell_type": "code",
      "source": [
        "mahasiswa = (\"Andi\", 20, \"Teknik Komputer\")\n",
        "\n",
        "print(f\"Nama: {mahasiswa[0]}\")\n",
        "print(f\"Umur: {mahasiswa[1]}\")\n",
        "print(f\"Prodi: {mahasiswa[2]}\")"
      ],
      "metadata": {
        "colab": {
          "base_uri": "https://localhost:8080/"
        },
        "id": "E49iGFcKZ-Ly",
        "outputId": "57ba261a-28dc-4786-aedd-4e1c581fed5c"
      },
      "execution_count": 8,
      "outputs": [
        {
          "output_type": "stream",
          "name": "stdout",
          "text": [
            "Nama: Andi\n",
            "Umur: 20\n",
            "Prodi: Teknik Komputer\n"
          ]
        }
      ]
    },
    {
      "cell_type": "markdown",
      "source": [
        "**TUGAS 2**"
      ],
      "metadata": {
        "id": "x33nN9qOwdTX"
      }
    },
    {
      "cell_type": "code",
      "source": [
        "data_tuple = (1, 2, 3)\n",
        "\n",
        "print(f\"Tuple awal: {data_tuple}\")\n",
        "\n",
        "try:\n",
        "    data_tuple[0] = 10\n",
        "except TypeError as e:\n",
        "    print(f\"Hasil: Terjadi error!\")\n",
        "    print(f\"Pesan Error: {e}\")"
      ],
      "metadata": {
        "colab": {
          "base_uri": "https://localhost:8080/"
        },
        "id": "1C_QM8x-xBSh",
        "outputId": "1fdbb4e6-bc73-44b4-bb42-b3b333436939"
      },
      "execution_count": 1,
      "outputs": [
        {
          "output_type": "stream",
          "name": "stdout",
          "text": [
            "Tuple awal: (1, 2, 3)\n",
            "Hasil: Terjadi error!\n",
            "Pesan Error: 'tuple' object does not support item assignment\n"
          ]
        }
      ]
    },
    {
      "cell_type": "markdown",
      "source": [
        "**TUGAS 3**"
      ],
      "metadata": {
        "id": "2P4Hm2zRxQWs"
      }
    },
    {
      "cell_type": "code",
      "source": [
        "buku = {\n",
        "    \"Judul\": \"Algoritma\",\n",
        "    \"Penulis\": \"Munir\",\n",
        "    \"Tahun\": 2021\n",
        "}\n",
        "\n",
        "print(f\"Judul: {buku['Judul']}\")\n",
        "print(f\"Penulis: {buku['Penulis']}\")\n",
        "print(f\"Tahun: {buku['Tahun']}\")"
      ],
      "metadata": {
        "colab": {
          "base_uri": "https://localhost:8080/"
        },
        "id": "ZS9qCuslyPIU",
        "outputId": "b7e40571-c704-4d49-9d71-8aaee29dd030"
      },
      "execution_count": 2,
      "outputs": [
        {
          "output_type": "stream",
          "name": "stdout",
          "text": [
            "Judul: Algoritma\n",
            "Penulis: Munir\n",
            "Tahun: 2021\n"
          ]
        }
      ]
    },
    {
      "cell_type": "markdown",
      "source": [
        "**TUGAS 4**"
      ],
      "metadata": {
        "id": "AUshRhJjyaT1"
      }
    },
    {
      "cell_type": "code",
      "source": [
        "dosen = {\n",
        "    \"NIP\": \"12345\",\n",
        "    \"Nama\": \"Budi\",\n",
        "    \"Prodi\": \"TRK\"\n",
        "}\n",
        "print(f\"Data awal: {dosen}\")\n",
        "\n",
        "dosen[\"Umur\"] = 40\n",
        "print(f\"Setelah tambah umur: {dosen}\")\n",
        "\n",
        "dosen[\"Prodi\"] = \"Teknik Komputer\"\n",
        "print(f\"Setelah perbarui prodi: {dosen}\")\n",
        "\n",
        "del dosen[\"Umur\"]\n",
        "print(f\"Setelah hapus umur: {dosen}\")\n",
        "\n",
        "print(f\"\\nHasil akhir: {dosen}\")"
      ],
      "metadata": {
        "colab": {
          "base_uri": "https://localhost:8080/"
        },
        "id": "8_WmCyHUycW2",
        "outputId": "ad67845f-f2f8-4818-db17-33dcb7c80834"
      },
      "execution_count": 4,
      "outputs": [
        {
          "output_type": "stream",
          "name": "stdout",
          "text": [
            "Data awal: {'NIP': '12345', 'Nama': 'Budi', 'Prodi': 'TRK'}\n",
            "Setelah tambah umur: {'NIP': '12345', 'Nama': 'Budi', 'Prodi': 'TRK', 'Umur': 40}\n",
            "Setelah perbarui prodi: {'NIP': '12345', 'Nama': 'Budi', 'Prodi': 'Teknik Komputer', 'Umur': 40}\n",
            "Setelah hapus umur: {'NIP': '12345', 'Nama': 'Budi', 'Prodi': 'Teknik Komputer'}\n",
            "\n",
            "Hasil akhir: {'NIP': '12345', 'Nama': 'Budi', 'Prodi': 'Teknik Komputer'}\n"
          ]
        }
      ]
    },
    {
      "cell_type": "markdown",
      "source": [
        "**TUGAS 5**"
      ],
      "metadata": {
        "id": "ggaBZZ76_hUJ"
      }
    },
    {
      "cell_type": "code",
      "source": [
        "A = {\"Matematika\", \"Algoritma\", \"Bahasa Inggris\"}\n",
        "B = {\"Algoritma\", \"Basis Data\", \"Matematika\"}\n",
        "\n",
        "print(f\"A: {A}\")\n",
        "print(f\"B: {B}\")\n",
        "print(\"---\")\n",
        "\n",
        "union_hasil = A | B\n",
        "print(f\"Union (Gabungan): {union_hasil}\")\n",
        "\n",
        "intersection_hasil = A & B\n",
        "print(f\"Intersection (Irisan): {intersection_hasil}\")\n",
        "\n",
        "difference_hasil = A - B\n",
        "print(f\"Difference (Selisih A - B): {difference_hasil}\")"
      ],
      "metadata": {
        "colab": {
          "base_uri": "https://localhost:8080/"
        },
        "id": "z8KPzkLX_kK-",
        "outputId": "4309bc19-27a6-455d-f539-ce62b3261bd7"
      },
      "execution_count": 6,
      "outputs": [
        {
          "output_type": "stream",
          "name": "stdout",
          "text": [
            "A: {'Algoritma', 'Matematika', 'Bahasa Inggris'}\n",
            "B: {'Basis Data', 'Algoritma', 'Matematika'}\n",
            "---\n",
            "Union (Gabungan): {'Basis Data', 'Bahasa Inggris', 'Algoritma', 'Matematika'}\n",
            "Intersection (Irisan): {'Algoritma', 'Matematika'}\n",
            "Difference (Selisih A - B): {'Bahasa Inggris'}\n"
          ]
        }
      ]
    },
    {
      "cell_type": "markdown",
      "source": [
        "**TUGAS 6**"
      ],
      "metadata": {
        "id": "bvVSGg_1_3e_"
      }
    },
    {
      "cell_type": "code",
      "source": [
        "nilai_mahasiswa = {\n",
        "    \"Andi\": 85,\n",
        "    \"Budi\": 90,\n",
        "    \"Cici\": 78\n",
        "}\n",
        "\n",
        "print(\"--- Daftar Nilai Mahasiswa ---\")\n",
        "for nama, nilai in nilai_mahasiswa.items():\n",
        "    print(f\"{nama}: {nilai}\")\n",
        "\n",
        "semua_nilai = nilai_mahasiswa.values()\n",
        "\n",
        "total = sum(semua_nilai)\n",
        "jumlah_mahasiswa = len(nilai_mahasiswa)\n",
        "rata_rata = total / jumlah_mahasiswa\n",
        "\n",
        "print(f\"Rata-rata nilai: {rata_rata:.2f}\")"
      ],
      "metadata": {
        "colab": {
          "base_uri": "https://localhost:8080/"
        },
        "id": "E_5p5AlL_7oj",
        "outputId": "46333c87-ead4-48bd-f4c8-c19baa7bb647"
      },
      "execution_count": 7,
      "outputs": [
        {
          "output_type": "stream",
          "name": "stdout",
          "text": [
            "--- Daftar Nilai Mahasiswa ---\n",
            "Andi: 85\n",
            "Budi: 90\n",
            "Cici: 78\n",
            "Rata-rata nilai: 84.33\n"
          ]
        }
      ]
    },
    {
      "cell_type": "markdown",
      "source": [
        "**TUGAS 7**"
      ],
      "metadata": {
        "id": "YPAq91pQDBKK"
      }
    },
    {
      "cell_type": "code",
      "source": [
        "A = {\"Andi\", \"Budi\", \"Cici\"}\n",
        "B = {\"Cici\", \"Deni\", \"Eka\"}\n",
        "\n",
        "print(f\"Klub A: {A}\")\n",
        "print(f\"Klub B: {B}\")\n",
        "print(\"---\")\n",
        "\n",
        "seluruh_anggota = A | B\n",
        "print(f\"Daftar seluruh anggota (Union): {seluruh_anggota}\")\n",
        "\n",
        "anggota_kedua_klub = A & B\n",
        "print(f\"Anggota di kedua klub (Intersection): {anggota_kedua_klub}\")\n",
        "\n",
        "hanya_di_A = A - B\n",
        "print(f\"Anggota yang hanya di Klub A (Difference): {hanya_di_A}\")"
      ],
      "metadata": {
        "colab": {
          "base_uri": "https://localhost:8080/"
        },
        "id": "eN5BRWTDDD5U",
        "outputId": "78551f07-89e7-4df7-c262-a3df45ed843c"
      },
      "execution_count": 8,
      "outputs": [
        {
          "output_type": "stream",
          "name": "stdout",
          "text": [
            "Klub A: {'Budi', 'Cici', 'Andi'}\n",
            "Klub B: {'Eka', 'Cici', 'Deni'}\n",
            "---\n",
            "Daftar seluruh anggota (Union): {'Eka', 'Cici', 'Budi', 'Andi', 'Deni'}\n",
            "Anggota di kedua klub (Intersection): {'Cici'}\n",
            "Anggota yang hanya di Klub A (Difference): {'Budi', 'Andi'}\n"
          ]
        }
      ]
    }
  ]
}